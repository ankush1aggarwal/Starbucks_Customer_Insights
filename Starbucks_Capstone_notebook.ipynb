{
 "cells": [
  {
   "cell_type": "markdown",
   "metadata": {},
   "source": [
    "# Starbucks Capstone Challenge\n",
    "\n",
    "### Introduction\n",
    "\n",
    "This data set contains simulated data that mimics customer behavior on the Starbucks rewards mobile app. Once every few days, Starbucks sends out an offer to users of the mobile app. An offer can be merely an advertisement for a drink or an actual offer such as a discount or BOGO (buy one get one free). Some users might not receive any offer during certain weeks. \n",
    "\n",
    "Not all users receive the same offer, and that is the challenge to solve with this data set.\n",
    "\n",
    "Your task is to combine transaction, demographic and offer data to determine which demographic groups respond best to which offer type. This data set is a simplified version of the real Starbucks app because the underlying simulator only has one product whereas Starbucks actually sells dozens of products.\n",
    "\n",
    "Every offer has a validity period before the offer expires. As an example, a BOGO offer might be valid for only 5 days. You'll see in the data set that informational offers have a validity period even though these ads are merely providing information about a product; for example, if an informational offer has 7 days of validity, you can assume the customer is feeling the influence of the offer for 7 days after receiving the advertisement.\n",
    "\n",
    "You'll be given transactional data showing user purchases made on the app including the timestamp of purchase and the amount of money spent on a purchase. This transactional data also has a record for each offer that a user receives as well as a record for when a user actually views the offer. There are also records for when a user completes an offer. \n",
    "\n",
    "Keep in mind as well that someone using the app might make a purchase through the app without having received an offer or seen an offer."
   ]
  },
  {
   "cell_type": "markdown",
   "metadata": {},
   "source": [
    "### Data Sets\n",
    "\n",
    "The data is contained in three files:\n",
    "\n",
    "* portfolio.json - containing offer ids and meta data about each offer (duration, type, etc.)\n",
    "* profile.json - demographic data for each customer\n",
    "* transcript.json - records for transactions, offers received, offers viewed, and offers completed\n",
    "\n",
    "Here is the schema and explanation of each variable in the files:\n",
    "\n",
    "**portfolio.json**\n",
    "* id (string) - offer id\n",
    "* offer_type (string) - type of offer ie BOGO, discount, informational\n",
    "* difficulty (int) - minimum required spend to complete an offer\n",
    "* reward (int) - reward given for completing an offer\n",
    "* duration (int) - time for offer to be open, in days\n",
    "* channels (list of strings)\n",
    "\n",
    "**profile.json**\n",
    "* age (int) - age of the customer \n",
    "* became_member_on (int) - date when customer created an app account\n",
    "* gender (str) - gender of the customer (note some entries contain 'O' for other rather than M or F)\n",
    "* id (str) - customer id\n",
    "* income (float) - customer's income\n",
    "\n",
    "**transcript.json**\n",
    "* event (str) - record description (ie transaction, offer received, offer viewed, etc.)\n",
    "* person (str) - customer id\n",
    "* time (int) - time in hours since start of test. The data begins at time t=0\n",
    "* value - (dict of strings) - either an offer id or transaction amount depending on the record\n",
    "\n",
    "\n",
    "### Problem Statement\n",
    "\n",
    "My goal is, for each type of offer,\n",
    "    1. Identify the characteristics of a successful offer\n",
    "    2. Based on the characteristics identified above, Predict if a particular user would take up an offer\n",
    "\n",
    "\n",
    "### Solution Statement\n",
    "\n",
    "Using the data provided, I address the above two goals using 3 classification supervised machine learning models, feeding in the data from three different offer types. I use the models to uncover the feature importances to identify the drivers of offer success, while using the model to predict if a user would take up an offer. Lastly, I will explore the characteristics of users who do or do not take up an offer."
   ]
  },
  {
   "cell_type": "markdown",
   "metadata": {},
   "source": [
    "### Data Exploration"
   ]
  },
  {
   "cell_type": "code",
   "execution_count": null,
   "metadata": {},
   "outputs": [],
   "source": [
    "import pandas as pd\n",
    "import numpy as np\n",
    "import math\n",
    "import json\n",
    "%matplotlib inline\n",
    "\n",
    "# read in the json files\n",
    "portfolio = pd.read_json('portfolio.json', orient='records', lines=True)\n",
    "profile = pd.read_json('profile.json', orient='records', lines=True)\n",
    "transcript = pd.read_json('transcript.json', orient='records', lines=True)"
   ]
  },
  {
   "cell_type": "code",
   "execution_count": 141,
   "metadata": {},
   "outputs": [
    {
     "data": {
      "text/html": [
       "<div>\n",
       "<style scoped>\n",
       "    .dataframe tbody tr th:only-of-type {\n",
       "        vertical-align: middle;\n",
       "    }\n",
       "\n",
       "    .dataframe tbody tr th {\n",
       "        vertical-align: top;\n",
       "    }\n",
       "\n",
       "    .dataframe thead th {\n",
       "        text-align: right;\n",
       "    }\n",
       "</style>\n",
       "<table border=\"1\" class=\"dataframe\">\n",
       "  <thead>\n",
       "    <tr style=\"text-align: right;\">\n",
       "      <th></th>\n",
       "      <th>reward</th>\n",
       "      <th>channels</th>\n",
       "      <th>difficulty</th>\n",
       "      <th>duration</th>\n",
       "      <th>offer_type</th>\n",
       "      <th>id</th>\n",
       "    </tr>\n",
       "  </thead>\n",
       "  <tbody>\n",
       "    <tr>\n",
       "      <th>0</th>\n",
       "      <td>10</td>\n",
       "      <td>[email, mobile, social]</td>\n",
       "      <td>10</td>\n",
       "      <td>7</td>\n",
       "      <td>bogo</td>\n",
       "      <td>ae264e3637204a6fb9bb56bc8210ddfd</td>\n",
       "    </tr>\n",
       "    <tr>\n",
       "      <th>1</th>\n",
       "      <td>10</td>\n",
       "      <td>[web, email, mobile, social]</td>\n",
       "      <td>10</td>\n",
       "      <td>5</td>\n",
       "      <td>bogo</td>\n",
       "      <td>4d5c57ea9a6940dd891ad53e9dbe8da0</td>\n",
       "    </tr>\n",
       "    <tr>\n",
       "      <th>2</th>\n",
       "      <td>0</td>\n",
       "      <td>[web, email, mobile]</td>\n",
       "      <td>0</td>\n",
       "      <td>4</td>\n",
       "      <td>informational</td>\n",
       "      <td>3f207df678b143eea3cee63160fa8bed</td>\n",
       "    </tr>\n",
       "    <tr>\n",
       "      <th>3</th>\n",
       "      <td>5</td>\n",
       "      <td>[web, email, mobile]</td>\n",
       "      <td>5</td>\n",
       "      <td>7</td>\n",
       "      <td>bogo</td>\n",
       "      <td>9b98b8c7a33c4b65b9aebfe6a799e6d9</td>\n",
       "    </tr>\n",
       "    <tr>\n",
       "      <th>4</th>\n",
       "      <td>5</td>\n",
       "      <td>[web, email]</td>\n",
       "      <td>20</td>\n",
       "      <td>10</td>\n",
       "      <td>discount</td>\n",
       "      <td>0b1e1539f2cc45b7b9fa7c272da2e1d7</td>\n",
       "    </tr>\n",
       "  </tbody>\n",
       "</table>\n",
       "</div>"
      ],
      "text/plain": [
       "   reward                      channels  difficulty  duration     offer_type  \\\n",
       "0      10       [email, mobile, social]          10         7           bogo   \n",
       "1      10  [web, email, mobile, social]          10         5           bogo   \n",
       "2       0          [web, email, mobile]           0         4  informational   \n",
       "3       5          [web, email, mobile]           5         7           bogo   \n",
       "4       5                  [web, email]          20        10       discount   \n",
       "\n",
       "                                 id  \n",
       "0  ae264e3637204a6fb9bb56bc8210ddfd  \n",
       "1  4d5c57ea9a6940dd891ad53e9dbe8da0  \n",
       "2  3f207df678b143eea3cee63160fa8bed  \n",
       "3  9b98b8c7a33c4b65b9aebfe6a799e6d9  \n",
       "4  0b1e1539f2cc45b7b9fa7c272da2e1d7  "
      ]
     },
     "execution_count": 141,
     "metadata": {},
     "output_type": "execute_result"
    }
   ],
   "source": [
    "portfolio.head()"
   ]
  },
  {
   "cell_type": "code",
   "execution_count": 142,
   "metadata": {},
   "outputs": [
    {
     "data": {
      "text/plain": [
       "reward        0\n",
       "channels      0\n",
       "difficulty    0\n",
       "duration      0\n",
       "offer_type    0\n",
       "id            0\n",
       "dtype: int64"
      ]
     },
     "execution_count": 142,
     "metadata": {},
     "output_type": "execute_result"
    }
   ],
   "source": [
    "portfolio.isna().sum(axis=0)"
   ]
  },
  {
   "cell_type": "code",
   "execution_count": 143,
   "metadata": {},
   "outputs": [
    {
     "data": {
      "text/plain": [
       "(10, 6)"
      ]
     },
     "execution_count": 143,
     "metadata": {},
     "output_type": "execute_result"
    }
   ],
   "source": [
    "portfolio.shape"
   ]
  },
  {
   "cell_type": "code",
   "execution_count": 144,
   "metadata": {},
   "outputs": [
    {
     "data": {
      "text/plain": [
       "offer_type\n",
       "bogo             4\n",
       "discount         4\n",
       "informational    2\n",
       "Name: id, dtype: int64"
      ]
     },
     "execution_count": 144,
     "metadata": {},
     "output_type": "execute_result"
    }
   ],
   "source": [
    "portfolio.groupby('offer_type')['id'].nunique()"
   ]
  },
  {
   "cell_type": "code",
   "execution_count": 145,
   "metadata": {},
   "outputs": [
    {
     "data": {
      "text/html": [
       "<div>\n",
       "<style scoped>\n",
       "    .dataframe tbody tr th:only-of-type {\n",
       "        vertical-align: middle;\n",
       "    }\n",
       "\n",
       "    .dataframe tbody tr th {\n",
       "        vertical-align: top;\n",
       "    }\n",
       "\n",
       "    .dataframe thead th {\n",
       "        text-align: right;\n",
       "    }\n",
       "</style>\n",
       "<table border=\"1\" class=\"dataframe\">\n",
       "  <thead>\n",
       "    <tr style=\"text-align: right;\">\n",
       "      <th></th>\n",
       "      <th>gender</th>\n",
       "      <th>age</th>\n",
       "      <th>id</th>\n",
       "      <th>became_member_on</th>\n",
       "      <th>income</th>\n",
       "    </tr>\n",
       "  </thead>\n",
       "  <tbody>\n",
       "    <tr>\n",
       "      <th>0</th>\n",
       "      <td>None</td>\n",
       "      <td>118</td>\n",
       "      <td>68be06ca386d4c31939f3a4f0e3dd783</td>\n",
       "      <td>20170212</td>\n",
       "      <td>NaN</td>\n",
       "    </tr>\n",
       "    <tr>\n",
       "      <th>1</th>\n",
       "      <td>F</td>\n",
       "      <td>55</td>\n",
       "      <td>0610b486422d4921ae7d2bf64640c50b</td>\n",
       "      <td>20170715</td>\n",
       "      <td>112000.0</td>\n",
       "    </tr>\n",
       "    <tr>\n",
       "      <th>2</th>\n",
       "      <td>None</td>\n",
       "      <td>118</td>\n",
       "      <td>38fe809add3b4fcf9315a9694bb96ff5</td>\n",
       "      <td>20180712</td>\n",
       "      <td>NaN</td>\n",
       "    </tr>\n",
       "    <tr>\n",
       "      <th>3</th>\n",
       "      <td>F</td>\n",
       "      <td>75</td>\n",
       "      <td>78afa995795e4d85b5d9ceeca43f5fef</td>\n",
       "      <td>20170509</td>\n",
       "      <td>100000.0</td>\n",
       "    </tr>\n",
       "    <tr>\n",
       "      <th>4</th>\n",
       "      <td>None</td>\n",
       "      <td>118</td>\n",
       "      <td>a03223e636434f42ac4c3df47e8bac43</td>\n",
       "      <td>20170804</td>\n",
       "      <td>NaN</td>\n",
       "    </tr>\n",
       "  </tbody>\n",
       "</table>\n",
       "</div>"
      ],
      "text/plain": [
       "  gender  age                                id  became_member_on    income\n",
       "0   None  118  68be06ca386d4c31939f3a4f0e3dd783          20170212       NaN\n",
       "1      F   55  0610b486422d4921ae7d2bf64640c50b          20170715  112000.0\n",
       "2   None  118  38fe809add3b4fcf9315a9694bb96ff5          20180712       NaN\n",
       "3      F   75  78afa995795e4d85b5d9ceeca43f5fef          20170509  100000.0\n",
       "4   None  118  a03223e636434f42ac4c3df47e8bac43          20170804       NaN"
      ]
     },
     "execution_count": 145,
     "metadata": {},
     "output_type": "execute_result"
    }
   ],
   "source": [
    "profile.head()"
   ]
  },
  {
   "cell_type": "code",
   "execution_count": 146,
   "metadata": {},
   "outputs": [
    {
     "data": {
      "text/plain": [
       "gender              2175\n",
       "age                    0\n",
       "id                     0\n",
       "became_member_on       0\n",
       "income              2175\n",
       "dtype: int64"
      ]
     },
     "execution_count": 146,
     "metadata": {},
     "output_type": "execute_result"
    }
   ],
   "source": [
    "profile.isna().sum(axis=0)"
   ]
  },
  {
   "cell_type": "code",
   "execution_count": 147,
   "metadata": {},
   "outputs": [
    {
     "data": {
      "text/plain": [
       "(17000, 5)"
      ]
     },
     "execution_count": 147,
     "metadata": {},
     "output_type": "execute_result"
    }
   ],
   "source": [
    "profile.shape"
   ]
  },
  {
   "cell_type": "code",
   "execution_count": 148,
   "metadata": {},
   "outputs": [
    {
     "data": {
      "text/plain": [
       "gender\n",
       "F    6129\n",
       "M    8484\n",
       "O     212\n",
       "dtype: int64"
      ]
     },
     "execution_count": 148,
     "metadata": {},
     "output_type": "execute_result"
    }
   ],
   "source": [
    "profile.groupby('gender').size()"
   ]
  },
  {
   "cell_type": "code",
   "execution_count": 149,
   "metadata": {},
   "outputs": [
    {
     "data": {
      "text/plain": [
       "<matplotlib.axes._subplots.AxesSubplot at 0x7f3b65324780>"
      ]
     },
     "execution_count": 149,
     "metadata": {},
     "output_type": "execute_result"
    },
    {
     "data": {
      "image/png": "[encoded data removed]",
      "text/plain": [
       "<Figure size 432x288 with 1 Axes>"
      ]
     },
     "metadata": {
      "needs_background": "light"
     },
     "output_type": "display_data"
    }
   ],
   "source": [
    "profile.age.hist()"
   ]
  },
  {
   "cell_type": "code",
   "execution_count": 150,
   "metadata": {},
   "outputs": [
    {
     "data": {
      "text/plain": [
       "array([118, 101])"
      ]
     },
     "execution_count": 150,
     "metadata": {},
     "output_type": "execute_result"
    }
   ],
   "source": [
    "profile[profile['age']>100].age.unique()"
   ]
  },
  {
   "cell_type": "code",
   "execution_count": 151,
   "metadata": {},
   "outputs": [
    {
     "data": {
      "text/plain": [
       "gender              2175\n",
       "age                    0\n",
       "id                     0\n",
       "became_member_on       0\n",
       "income              2175\n",
       "dtype: int64"
      ]
     },
     "execution_count": 151,
     "metadata": {},
     "output_type": "execute_result"
    }
   ],
   "source": [
    "profile[profile['age']==118].isna().sum(axis=0)"
   ]
  },
  {
   "cell_type": "markdown",
   "metadata": {},
   "source": [
    "There are 2,175 records with missing gender, income and age values (default as 118)"
   ]
  },
  {
   "cell_type": "code",
   "execution_count": 152,
   "metadata": {},
   "outputs": [
    {
     "data": {
      "text/plain": [
       "count    1.700000e+04\n",
       "mean     2.016703e+07\n",
       "std      1.167750e+04\n",
       "min      2.013073e+07\n",
       "25%      2.016053e+07\n",
       "50%      2.017080e+07\n",
       "75%      2.017123e+07\n",
       "max      2.018073e+07\n",
       "Name: became_member_on, dtype: float64"
      ]
     },
     "execution_count": 152,
     "metadata": {},
     "output_type": "execute_result"
    }
   ],
   "source": [
    "profile['became_member_on'].describe()"
   ]
  },
  {
   "cell_type": "code",
   "execution_count": 153,
   "metadata": {},
   "outputs": [
    {
     "data": {
      "text/plain": [
       "person             0\n",
       "event              0\n",
       "time               0\n",
       "amount        167581\n",
       "offer_id           0\n",
       "channels           0\n",
       "difficulty         0\n",
       "duration           0\n",
       "offer_type         0\n",
       "reward             0\n",
       "dtype: int64"
      ]
     },
     "execution_count": 153,
     "metadata": {},
     "output_type": "execute_result"
    }
   ],
   "source": [
    "transcript.isna().sum(axis=0)"
   ]
  },
  {
   "cell_type": "code",
   "execution_count": 154,
   "metadata": {},
   "outputs": [
    {
     "data": {
      "text/plain": [
       "event\n",
       "offer completed    12774\n",
       "offer received     16994\n",
       "offer viewed       16834\n",
       "transaction        16578\n",
       "Name: person, dtype: int64"
      ]
     },
     "execution_count": 154,
     "metadata": {},
     "output_type": "execute_result"
    }
   ],
   "source": [
    "transcript.groupby('event')['person'].nunique()"
   ]
  },
  {
   "cell_type": "code",
   "execution_count": 155,
   "metadata": {},
   "outputs": [
    {
     "data": {
      "text/plain": [
       "17000"
      ]
     },
     "execution_count": 155,
     "metadata": {},
     "output_type": "execute_result"
    }
   ],
   "source": [
    "transcript['person'].nunique()"
   ]
  },
  {
   "cell_type": "code",
   "execution_count": null,
   "metadata": {
    "scrolled": true
   },
   "outputs": [],
   "source": [
    "transcript=pd.concat([transcript, transcript['value'].apply(pd.Series)], axis=1)"
   ]
  },
  {
   "cell_type": "code",
   "execution_count": null,
   "metadata": {},
   "outputs": [],
   "source": [
    "transcript['offer_id_new']=np.where(transcript['offer id'].isnull() & transcript['offer_id'].notnull(),transcript['offer_id'],transcript['offer id'])"
   ]
  },
  {
   "cell_type": "code",
   "execution_count": null,
   "metadata": {},
   "outputs": [],
   "source": [
    "transcript.drop(['offer id','offer_id'],axis=1,inplace=True)"
   ]
  },
  {
   "cell_type": "code",
   "execution_count": null,
   "metadata": {},
   "outputs": [],
   "source": [
    "transcript.rename(columns={'offer_id_new':'offer_id'},inplace=True)"
   ]
  },
  {
   "cell_type": "code",
   "execution_count": 157,
   "metadata": {},
   "outputs": [
    {
     "data": {
      "text/html": [
       "<div>\n",
       "<style scoped>\n",
       "    .dataframe tbody tr th:only-of-type {\n",
       "        vertical-align: middle;\n",
       "    }\n",
       "\n",
       "    .dataframe tbody tr th {\n",
       "        vertical-align: top;\n",
       "    }\n",
       "\n",
       "    .dataframe thead th {\n",
       "        text-align: right;\n",
       "    }\n",
       "</style>\n",
       "<table border=\"1\" class=\"dataframe\">\n",
       "  <thead>\n",
       "    <tr style=\"text-align: right;\">\n",
       "      <th></th>\n",
       "      <th>person</th>\n",
       "      <th>event</th>\n",
       "      <th>time</th>\n",
       "      <th>amount</th>\n",
       "      <th>offer_id</th>\n",
       "      <th>channels</th>\n",
       "      <th>difficulty</th>\n",
       "      <th>duration</th>\n",
       "      <th>offer_type</th>\n",
       "      <th>reward</th>\n",
       "    </tr>\n",
       "  </thead>\n",
       "  <tbody>\n",
       "    <tr>\n",
       "      <th>306484</th>\n",
       "      <td>fffad4f4828548d1b5583907f2e9906b</td>\n",
       "      <td>transaction</td>\n",
       "      <td>120</td>\n",
       "      <td>6.26</td>\n",
       "      <td>f19421c1d4aa40978ebb69ca19b0e20d</td>\n",
       "      <td>[web, email, mobile, social]</td>\n",
       "      <td>5</td>\n",
       "      <td>5</td>\n",
       "      <td>bogo</td>\n",
       "      <td>5.0</td>\n",
       "    </tr>\n",
       "    <tr>\n",
       "      <th>306485</th>\n",
       "      <td>fffad4f4828548d1b5583907f2e9906b</td>\n",
       "      <td>offer received</td>\n",
       "      <td>168</td>\n",
       "      <td>NaN</td>\n",
       "      <td>5a8bc65990b245e5a138643cd4eb9837</td>\n",
       "      <td>[email, mobile, social]</td>\n",
       "      <td>0</td>\n",
       "      <td>3</td>\n",
       "      <td>informational</td>\n",
       "      <td>0.0</td>\n",
       "    </tr>\n",
       "    <tr>\n",
       "      <th>306486</th>\n",
       "      <td>fffad4f4828548d1b5583907f2e9906b</td>\n",
       "      <td>offer viewed</td>\n",
       "      <td>168</td>\n",
       "      <td>NaN</td>\n",
       "      <td>5a8bc65990b245e5a138643cd4eb9837</td>\n",
       "      <td>[email, mobile, social]</td>\n",
       "      <td>0</td>\n",
       "      <td>3</td>\n",
       "      <td>informational</td>\n",
       "      <td>0.0</td>\n",
       "    </tr>\n",
       "    <tr>\n",
       "      <th>306487</th>\n",
       "      <td>fffad4f4828548d1b5583907f2e9906b</td>\n",
       "      <td>transaction</td>\n",
       "      <td>198</td>\n",
       "      <td>5.63</td>\n",
       "      <td>5a8bc65990b245e5a138643cd4eb9837</td>\n",
       "      <td>[email, mobile, social]</td>\n",
       "      <td>0</td>\n",
       "      <td>3</td>\n",
       "      <td>informational</td>\n",
       "      <td>0.0</td>\n",
       "    </tr>\n",
       "    <tr>\n",
       "      <th>306488</th>\n",
       "      <td>fffad4f4828548d1b5583907f2e9906b</td>\n",
       "      <td>transaction</td>\n",
       "      <td>312</td>\n",
       "      <td>8.20</td>\n",
       "      <td>5a8bc65990b245e5a138643cd4eb9837</td>\n",
       "      <td>[email, mobile, social]</td>\n",
       "      <td>0</td>\n",
       "      <td>3</td>\n",
       "      <td>informational</td>\n",
       "      <td>0.0</td>\n",
       "    </tr>\n",
       "    <tr>\n",
       "      <th>306489</th>\n",
       "      <td>fffad4f4828548d1b5583907f2e9906b</td>\n",
       "      <td>transaction</td>\n",
       "      <td>324</td>\n",
       "      <td>2.05</td>\n",
       "      <td>5a8bc65990b245e5a138643cd4eb9837</td>\n",
       "      <td>[email, mobile, social]</td>\n",
       "      <td>0</td>\n",
       "      <td>3</td>\n",
       "      <td>informational</td>\n",
       "      <td>0.0</td>\n",
       "    </tr>\n",
       "    <tr>\n",
       "      <th>306490</th>\n",
       "      <td>fffad4f4828548d1b5583907f2e9906b</td>\n",
       "      <td>transaction</td>\n",
       "      <td>402</td>\n",
       "      <td>8.14</td>\n",
       "      <td>5a8bc65990b245e5a138643cd4eb9837</td>\n",
       "      <td>[email, mobile, social]</td>\n",
       "      <td>0</td>\n",
       "      <td>3</td>\n",
       "      <td>informational</td>\n",
       "      <td>0.0</td>\n",
       "    </tr>\n",
       "    <tr>\n",
       "      <th>306491</th>\n",
       "      <td>fffad4f4828548d1b5583907f2e9906b</td>\n",
       "      <td>offer received</td>\n",
       "      <td>408</td>\n",
       "      <td>NaN</td>\n",
       "      <td>f19421c1d4aa40978ebb69ca19b0e20d</td>\n",
       "      <td>[web, email, mobile, social]</td>\n",
       "      <td>5</td>\n",
       "      <td>5</td>\n",
       "      <td>bogo</td>\n",
       "      <td>5.0</td>\n",
       "    </tr>\n",
       "    <tr>\n",
       "      <th>306492</th>\n",
       "      <td>fffad4f4828548d1b5583907f2e9906b</td>\n",
       "      <td>offer viewed</td>\n",
       "      <td>510</td>\n",
       "      <td>NaN</td>\n",
       "      <td>f19421c1d4aa40978ebb69ca19b0e20d</td>\n",
       "      <td>[web, email, mobile, social]</td>\n",
       "      <td>5</td>\n",
       "      <td>5</td>\n",
       "      <td>bogo</td>\n",
       "      <td>5.0</td>\n",
       "    </tr>\n",
       "    <tr>\n",
       "      <th>306493</th>\n",
       "      <td>fffad4f4828548d1b5583907f2e9906b</td>\n",
       "      <td>transaction</td>\n",
       "      <td>516</td>\n",
       "      <td>12.18</td>\n",
       "      <td>f19421c1d4aa40978ebb69ca19b0e20d</td>\n",
       "      <td>[web, email, mobile, social]</td>\n",
       "      <td>5</td>\n",
       "      <td>5</td>\n",
       "      <td>bogo</td>\n",
       "      <td>5.0</td>\n",
       "    </tr>\n",
       "    <tr>\n",
       "      <th>306494</th>\n",
       "      <td>fffad4f4828548d1b5583907f2e9906b</td>\n",
       "      <td>offer completed</td>\n",
       "      <td>516</td>\n",
       "      <td>NaN</td>\n",
       "      <td>f19421c1d4aa40978ebb69ca19b0e20d</td>\n",
       "      <td>[web, email, mobile, social]</td>\n",
       "      <td>5</td>\n",
       "      <td>5</td>\n",
       "      <td>bogo</td>\n",
       "      <td>5.0</td>\n",
       "    </tr>\n",
       "    <tr>\n",
       "      <th>306495</th>\n",
       "      <td>fffad4f4828548d1b5583907f2e9906b</td>\n",
       "      <td>transaction</td>\n",
       "      <td>558</td>\n",
       "      <td>7.97</td>\n",
       "      <td>f19421c1d4aa40978ebb69ca19b0e20d</td>\n",
       "      <td>[web, email, mobile, social]</td>\n",
       "      <td>5</td>\n",
       "      <td>5</td>\n",
       "      <td>bogo</td>\n",
       "      <td>5.0</td>\n",
       "    </tr>\n",
       "    <tr>\n",
       "      <th>306496</th>\n",
       "      <td>fffad4f4828548d1b5583907f2e9906b</td>\n",
       "      <td>offer received</td>\n",
       "      <td>576</td>\n",
       "      <td>NaN</td>\n",
       "      <td>9b98b8c7a33c4b65b9aebfe6a799e6d9</td>\n",
       "      <td>[web, email, mobile]</td>\n",
       "      <td>5</td>\n",
       "      <td>7</td>\n",
       "      <td>bogo</td>\n",
       "      <td>5.0</td>\n",
       "    </tr>\n",
       "    <tr>\n",
       "      <th>306497</th>\n",
       "      <td>fffad4f4828548d1b5583907f2e9906b</td>\n",
       "      <td>transaction</td>\n",
       "      <td>588</td>\n",
       "      <td>10.98</td>\n",
       "      <td>f19421c1d4aa40978ebb69ca19b0e20d</td>\n",
       "      <td>[web, email, mobile, social]</td>\n",
       "      <td>5</td>\n",
       "      <td>5</td>\n",
       "      <td>bogo</td>\n",
       "      <td>5.0</td>\n",
       "    </tr>\n",
       "    <tr>\n",
       "      <th>306498</th>\n",
       "      <td>fffad4f4828548d1b5583907f2e9906b</td>\n",
       "      <td>offer completed</td>\n",
       "      <td>588</td>\n",
       "      <td>NaN</td>\n",
       "      <td>9b98b8c7a33c4b65b9aebfe6a799e6d9</td>\n",
       "      <td>[web, email, mobile]</td>\n",
       "      <td>5</td>\n",
       "      <td>7</td>\n",
       "      <td>bogo</td>\n",
       "      <td>5.0</td>\n",
       "    </tr>\n",
       "    <tr>\n",
       "      <th>306499</th>\n",
       "      <td>fffad4f4828548d1b5583907f2e9906b</td>\n",
       "      <td>offer viewed</td>\n",
       "      <td>666</td>\n",
       "      <td>NaN</td>\n",
       "      <td>9b98b8c7a33c4b65b9aebfe6a799e6d9</td>\n",
       "      <td>[web, email, mobile]</td>\n",
       "      <td>5</td>\n",
       "      <td>7</td>\n",
       "      <td>bogo</td>\n",
       "      <td>5.0</td>\n",
       "    </tr>\n",
       "    <tr>\n",
       "      <th>306500</th>\n",
       "      <td>fffad4f4828548d1b5583907f2e9906b</td>\n",
       "      <td>transaction</td>\n",
       "      <td>678</td>\n",
       "      <td>7.06</td>\n",
       "      <td>9b98b8c7a33c4b65b9aebfe6a799e6d9</td>\n",
       "      <td>[web, email, mobile]</td>\n",
       "      <td>5</td>\n",
       "      <td>7</td>\n",
       "      <td>bogo</td>\n",
       "      <td>5.0</td>\n",
       "    </tr>\n",
       "    <tr>\n",
       "      <th>306501</th>\n",
       "      <td>ffff82501cea40309d5fdd7edcca4a07</td>\n",
       "      <td>offer received</td>\n",
       "      <td>0</td>\n",
       "      <td>NaN</td>\n",
       "      <td>fafdcd668e3743c1bb461111dcafc2a4</td>\n",
       "      <td>[web, email, mobile, social]</td>\n",
       "      <td>10</td>\n",
       "      <td>10</td>\n",
       "      <td>discount</td>\n",
       "      <td>2.0</td>\n",
       "    </tr>\n",
       "    <tr>\n",
       "      <th>306502</th>\n",
       "      <td>ffff82501cea40309d5fdd7edcca4a07</td>\n",
       "      <td>offer viewed</td>\n",
       "      <td>6</td>\n",
       "      <td>NaN</td>\n",
       "      <td>fafdcd668e3743c1bb461111dcafc2a4</td>\n",
       "      <td>[web, email, mobile, social]</td>\n",
       "      <td>10</td>\n",
       "      <td>10</td>\n",
       "      <td>discount</td>\n",
       "      <td>2.0</td>\n",
       "    </tr>\n",
       "    <tr>\n",
       "      <th>306503</th>\n",
       "      <td>ffff82501cea40309d5fdd7edcca4a07</td>\n",
       "      <td>transaction</td>\n",
       "      <td>60</td>\n",
       "      <td>16.06</td>\n",
       "      <td>fafdcd668e3743c1bb461111dcafc2a4</td>\n",
       "      <td>[web, email, mobile, social]</td>\n",
       "      <td>10</td>\n",
       "      <td>10</td>\n",
       "      <td>discount</td>\n",
       "      <td>2.0</td>\n",
       "    </tr>\n",
       "    <tr>\n",
       "      <th>306504</th>\n",
       "      <td>ffff82501cea40309d5fdd7edcca4a07</td>\n",
       "      <td>offer completed</td>\n",
       "      <td>60</td>\n",
       "      <td>NaN</td>\n",
       "      <td>fafdcd668e3743c1bb461111dcafc2a4</td>\n",
       "      <td>[web, email, mobile, social]</td>\n",
       "      <td>10</td>\n",
       "      <td>10</td>\n",
       "      <td>discount</td>\n",
       "      <td>2.0</td>\n",
       "    </tr>\n",
       "    <tr>\n",
       "      <th>306505</th>\n",
       "      <td>ffff82501cea40309d5fdd7edcca4a07</td>\n",
       "      <td>transaction</td>\n",
       "      <td>78</td>\n",
       "      <td>7.18</td>\n",
       "      <td>fafdcd668e3743c1bb461111dcafc2a4</td>\n",
       "      <td>[web, email, mobile, social]</td>\n",
       "      <td>10</td>\n",
       "      <td>10</td>\n",
       "      <td>discount</td>\n",
       "      <td>2.0</td>\n",
       "    </tr>\n",
       "    <tr>\n",
       "      <th>306506</th>\n",
       "      <td>ffff82501cea40309d5fdd7edcca4a07</td>\n",
       "      <td>transaction</td>\n",
       "      <td>120</td>\n",
       "      <td>9.12</td>\n",
       "      <td>fafdcd668e3743c1bb461111dcafc2a4</td>\n",
       "      <td>[web, email, mobile, social]</td>\n",
       "      <td>10</td>\n",
       "      <td>10</td>\n",
       "      <td>discount</td>\n",
       "      <td>2.0</td>\n",
       "    </tr>\n",
       "    <tr>\n",
       "      <th>306507</th>\n",
       "      <td>ffff82501cea40309d5fdd7edcca4a07</td>\n",
       "      <td>offer received</td>\n",
       "      <td>168</td>\n",
       "      <td>NaN</td>\n",
       "      <td>0b1e1539f2cc45b7b9fa7c272da2e1d7</td>\n",
       "      <td>[web, email]</td>\n",
       "      <td>20</td>\n",
       "      <td>10</td>\n",
       "      <td>discount</td>\n",
       "      <td>5.0</td>\n",
       "    </tr>\n",
       "    <tr>\n",
       "      <th>306508</th>\n",
       "      <td>ffff82501cea40309d5fdd7edcca4a07</td>\n",
       "      <td>offer viewed</td>\n",
       "      <td>174</td>\n",
       "      <td>NaN</td>\n",
       "      <td>0b1e1539f2cc45b7b9fa7c272da2e1d7</td>\n",
       "      <td>[web, email]</td>\n",
       "      <td>20</td>\n",
       "      <td>10</td>\n",
       "      <td>discount</td>\n",
       "      <td>5.0</td>\n",
       "    </tr>\n",
       "    <tr>\n",
       "      <th>306509</th>\n",
       "      <td>ffff82501cea40309d5fdd7edcca4a07</td>\n",
       "      <td>transaction</td>\n",
       "      <td>198</td>\n",
       "      <td>22.88</td>\n",
       "      <td>0b1e1539f2cc45b7b9fa7c272da2e1d7</td>\n",
       "      <td>[web, email]</td>\n",
       "      <td>20</td>\n",
       "      <td>10</td>\n",
       "      <td>discount</td>\n",
       "      <td>5.0</td>\n",
       "    </tr>\n",
       "    <tr>\n",
       "      <th>306510</th>\n",
       "      <td>ffff82501cea40309d5fdd7edcca4a07</td>\n",
       "      <td>offer completed</td>\n",
       "      <td>198</td>\n",
       "      <td>NaN</td>\n",
       "      <td>0b1e1539f2cc45b7b9fa7c272da2e1d7</td>\n",
       "      <td>[web, email]</td>\n",
       "      <td>20</td>\n",
       "      <td>10</td>\n",
       "      <td>discount</td>\n",
       "      <td>5.0</td>\n",
       "    </tr>\n",
       "    <tr>\n",
       "      <th>306511</th>\n",
       "      <td>ffff82501cea40309d5fdd7edcca4a07</td>\n",
       "      <td>transaction</td>\n",
       "      <td>204</td>\n",
       "      <td>15.23</td>\n",
       "      <td>0b1e1539f2cc45b7b9fa7c272da2e1d7</td>\n",
       "      <td>[web, email]</td>\n",
       "      <td>20</td>\n",
       "      <td>10</td>\n",
       "      <td>discount</td>\n",
       "      <td>5.0</td>\n",
       "    </tr>\n",
       "    <tr>\n",
       "      <th>306512</th>\n",
       "      <td>ffff82501cea40309d5fdd7edcca4a07</td>\n",
       "      <td>transaction</td>\n",
       "      <td>234</td>\n",
       "      <td>18.08</td>\n",
       "      <td>0b1e1539f2cc45b7b9fa7c272da2e1d7</td>\n",
       "      <td>[web, email]</td>\n",
       "      <td>20</td>\n",
       "      <td>10</td>\n",
       "      <td>discount</td>\n",
       "      <td>5.0</td>\n",
       "    </tr>\n",
       "    <tr>\n",
       "      <th>306513</th>\n",
       "      <td>ffff82501cea40309d5fdd7edcca4a07</td>\n",
       "      <td>transaction</td>\n",
       "      <td>264</td>\n",
       "      <td>23.32</td>\n",
       "      <td>0b1e1539f2cc45b7b9fa7c272da2e1d7</td>\n",
       "      <td>[web, email]</td>\n",
       "      <td>20</td>\n",
       "      <td>10</td>\n",
       "      <td>discount</td>\n",
       "      <td>5.0</td>\n",
       "    </tr>\n",
       "    <tr>\n",
       "      <th>306514</th>\n",
       "      <td>ffff82501cea40309d5fdd7edcca4a07</td>\n",
       "      <td>transaction</td>\n",
       "      <td>312</td>\n",
       "      <td>16.86</td>\n",
       "      <td>0b1e1539f2cc45b7b9fa7c272da2e1d7</td>\n",
       "      <td>[web, email]</td>\n",
       "      <td>20</td>\n",
       "      <td>10</td>\n",
       "      <td>discount</td>\n",
       "      <td>5.0</td>\n",
       "    </tr>\n",
       "    <tr>\n",
       "      <th>306515</th>\n",
       "      <td>ffff82501cea40309d5fdd7edcca4a07</td>\n",
       "      <td>offer received</td>\n",
       "      <td>336</td>\n",
       "      <td>NaN</td>\n",
       "      <td>2906b810c7d4411798c6938adc9daaa5</td>\n",
       "      <td>[web, email, mobile]</td>\n",
       "      <td>10</td>\n",
       "      <td>7</td>\n",
       "      <td>discount</td>\n",
       "      <td>2.0</td>\n",
       "    </tr>\n",
       "    <tr>\n",
       "      <th>306516</th>\n",
       "      <td>ffff82501cea40309d5fdd7edcca4a07</td>\n",
       "      <td>offer viewed</td>\n",
       "      <td>354</td>\n",
       "      <td>NaN</td>\n",
       "      <td>2906b810c7d4411798c6938adc9daaa5</td>\n",
       "      <td>[web, email, mobile]</td>\n",
       "      <td>10</td>\n",
       "      <td>7</td>\n",
       "      <td>discount</td>\n",
       "      <td>2.0</td>\n",
       "    </tr>\n",
       "    <tr>\n",
       "      <th>306517</th>\n",
       "      <td>ffff82501cea40309d5fdd7edcca4a07</td>\n",
       "      <td>transaction</td>\n",
       "      <td>384</td>\n",
       "      <td>15.57</td>\n",
       "      <td>2906b810c7d4411798c6938adc9daaa5</td>\n",
       "      <td>[web, email, mobile]</td>\n",
       "      <td>10</td>\n",
       "      <td>7</td>\n",
       "      <td>discount</td>\n",
       "      <td>2.0</td>\n",
       "    </tr>\n",
       "    <tr>\n",
       "      <th>306518</th>\n",
       "      <td>ffff82501cea40309d5fdd7edcca4a07</td>\n",
       "      <td>offer completed</td>\n",
       "      <td>384</td>\n",
       "      <td>NaN</td>\n",
       "      <td>2906b810c7d4411798c6938adc9daaa5</td>\n",
       "      <td>[web, email, mobile]</td>\n",
       "      <td>10</td>\n",
       "      <td>7</td>\n",
       "      <td>discount</td>\n",
       "      <td>2.0</td>\n",
       "    </tr>\n",
       "    <tr>\n",
       "      <th>306519</th>\n",
       "      <td>ffff82501cea40309d5fdd7edcca4a07</td>\n",
       "      <td>offer received</td>\n",
       "      <td>408</td>\n",
       "      <td>NaN</td>\n",
       "      <td>2906b810c7d4411798c6938adc9daaa5</td>\n",
       "      <td>[web, email, mobile]</td>\n",
       "      <td>10</td>\n",
       "      <td>7</td>\n",
       "      <td>discount</td>\n",
       "      <td>2.0</td>\n",
       "    </tr>\n",
       "    <tr>\n",
       "      <th>306520</th>\n",
       "      <td>ffff82501cea40309d5fdd7edcca4a07</td>\n",
       "      <td>offer viewed</td>\n",
       "      <td>414</td>\n",
       "      <td>NaN</td>\n",
       "      <td>2906b810c7d4411798c6938adc9daaa5</td>\n",
       "      <td>[web, email, mobile]</td>\n",
       "      <td>10</td>\n",
       "      <td>7</td>\n",
       "      <td>discount</td>\n",
       "      <td>2.0</td>\n",
       "    </tr>\n",
       "    <tr>\n",
       "      <th>306521</th>\n",
       "      <td>ffff82501cea40309d5fdd7edcca4a07</td>\n",
       "      <td>transaction</td>\n",
       "      <td>414</td>\n",
       "      <td>17.55</td>\n",
       "      <td>2906b810c7d4411798c6938adc9daaa5</td>\n",
       "      <td>[web, email, mobile]</td>\n",
       "      <td>10</td>\n",
       "      <td>7</td>\n",
       "      <td>discount</td>\n",
       "      <td>2.0</td>\n",
       "    </tr>\n",
       "    <tr>\n",
       "      <th>306522</th>\n",
       "      <td>ffff82501cea40309d5fdd7edcca4a07</td>\n",
       "      <td>offer completed</td>\n",
       "      <td>414</td>\n",
       "      <td>NaN</td>\n",
       "      <td>2906b810c7d4411798c6938adc9daaa5</td>\n",
       "      <td>[web, email, mobile]</td>\n",
       "      <td>10</td>\n",
       "      <td>7</td>\n",
       "      <td>discount</td>\n",
       "      <td>2.0</td>\n",
       "    </tr>\n",
       "    <tr>\n",
       "      <th>306523</th>\n",
       "      <td>ffff82501cea40309d5fdd7edcca4a07</td>\n",
       "      <td>transaction</td>\n",
       "      <td>498</td>\n",
       "      <td>13.17</td>\n",
       "      <td>2906b810c7d4411798c6938adc9daaa5</td>\n",
       "      <td>[web, email, mobile]</td>\n",
       "      <td>10</td>\n",
       "      <td>7</td>\n",
       "      <td>discount</td>\n",
       "      <td>2.0</td>\n",
       "    </tr>\n",
       "    <tr>\n",
       "      <th>306524</th>\n",
       "      <td>ffff82501cea40309d5fdd7edcca4a07</td>\n",
       "      <td>offer received</td>\n",
       "      <td>504</td>\n",
       "      <td>NaN</td>\n",
       "      <td>9b98b8c7a33c4b65b9aebfe6a799e6d9</td>\n",
       "      <td>[web, email, mobile]</td>\n",
       "      <td>5</td>\n",
       "      <td>7</td>\n",
       "      <td>bogo</td>\n",
       "      <td>5.0</td>\n",
       "    </tr>\n",
       "    <tr>\n",
       "      <th>306525</th>\n",
       "      <td>ffff82501cea40309d5fdd7edcca4a07</td>\n",
       "      <td>transaction</td>\n",
       "      <td>504</td>\n",
       "      <td>7.79</td>\n",
       "      <td>2906b810c7d4411798c6938adc9daaa5</td>\n",
       "      <td>[web, email, mobile]</td>\n",
       "      <td>10</td>\n",
       "      <td>7</td>\n",
       "      <td>discount</td>\n",
       "      <td>2.0</td>\n",
       "    </tr>\n",
       "    <tr>\n",
       "      <th>306526</th>\n",
       "      <td>ffff82501cea40309d5fdd7edcca4a07</td>\n",
       "      <td>offer completed</td>\n",
       "      <td>504</td>\n",
       "      <td>NaN</td>\n",
       "      <td>9b98b8c7a33c4b65b9aebfe6a799e6d9</td>\n",
       "      <td>[web, email, mobile]</td>\n",
       "      <td>5</td>\n",
       "      <td>7</td>\n",
       "      <td>bogo</td>\n",
       "      <td>5.0</td>\n",
       "    </tr>\n",
       "    <tr>\n",
       "      <th>306527</th>\n",
       "      <td>ffff82501cea40309d5fdd7edcca4a07</td>\n",
       "      <td>offer viewed</td>\n",
       "      <td>534</td>\n",
       "      <td>NaN</td>\n",
       "      <td>9b98b8c7a33c4b65b9aebfe6a799e6d9</td>\n",
       "      <td>[web, email, mobile]</td>\n",
       "      <td>5</td>\n",
       "      <td>7</td>\n",
       "      <td>bogo</td>\n",
       "      <td>5.0</td>\n",
       "    </tr>\n",
       "    <tr>\n",
       "      <th>306528</th>\n",
       "      <td>ffff82501cea40309d5fdd7edcca4a07</td>\n",
       "      <td>offer received</td>\n",
       "      <td>576</td>\n",
       "      <td>NaN</td>\n",
       "      <td>2906b810c7d4411798c6938adc9daaa5</td>\n",
       "      <td>[web, email, mobile]</td>\n",
       "      <td>10</td>\n",
       "      <td>7</td>\n",
       "      <td>discount</td>\n",
       "      <td>2.0</td>\n",
       "    </tr>\n",
       "    <tr>\n",
       "      <th>306529</th>\n",
       "      <td>ffff82501cea40309d5fdd7edcca4a07</td>\n",
       "      <td>transaction</td>\n",
       "      <td>576</td>\n",
       "      <td>14.23</td>\n",
       "      <td>9b98b8c7a33c4b65b9aebfe6a799e6d9</td>\n",
       "      <td>[web, email, mobile]</td>\n",
       "      <td>5</td>\n",
       "      <td>7</td>\n",
       "      <td>bogo</td>\n",
       "      <td>5.0</td>\n",
       "    </tr>\n",
       "    <tr>\n",
       "      <th>306530</th>\n",
       "      <td>ffff82501cea40309d5fdd7edcca4a07</td>\n",
       "      <td>offer completed</td>\n",
       "      <td>576</td>\n",
       "      <td>NaN</td>\n",
       "      <td>2906b810c7d4411798c6938adc9daaa5</td>\n",
       "      <td>[web, email, mobile]</td>\n",
       "      <td>10</td>\n",
       "      <td>7</td>\n",
       "      <td>discount</td>\n",
       "      <td>2.0</td>\n",
       "    </tr>\n",
       "    <tr>\n",
       "      <th>306531</th>\n",
       "      <td>ffff82501cea40309d5fdd7edcca4a07</td>\n",
       "      <td>offer viewed</td>\n",
       "      <td>582</td>\n",
       "      <td>NaN</td>\n",
       "      <td>2906b810c7d4411798c6938adc9daaa5</td>\n",
       "      <td>[web, email, mobile]</td>\n",
       "      <td>10</td>\n",
       "      <td>7</td>\n",
       "      <td>discount</td>\n",
       "      <td>2.0</td>\n",
       "    </tr>\n",
       "    <tr>\n",
       "      <th>306532</th>\n",
       "      <td>ffff82501cea40309d5fdd7edcca4a07</td>\n",
       "      <td>transaction</td>\n",
       "      <td>606</td>\n",
       "      <td>10.12</td>\n",
       "      <td>2906b810c7d4411798c6938adc9daaa5</td>\n",
       "      <td>[web, email, mobile]</td>\n",
       "      <td>10</td>\n",
       "      <td>7</td>\n",
       "      <td>discount</td>\n",
       "      <td>2.0</td>\n",
       "    </tr>\n",
       "    <tr>\n",
       "      <th>306533</th>\n",
       "      <td>ffff82501cea40309d5fdd7edcca4a07</td>\n",
       "      <td>transaction</td>\n",
       "      <td>648</td>\n",
       "      <td>18.91</td>\n",
       "      <td>2906b810c7d4411798c6938adc9daaa5</td>\n",
       "      <td>[web, email, mobile]</td>\n",
       "      <td>10</td>\n",
       "      <td>7</td>\n",
       "      <td>discount</td>\n",
       "      <td>2.0</td>\n",
       "    </tr>\n",
       "  </tbody>\n",
       "</table>\n",
       "</div>"
      ],
      "text/plain": [
       "                                  person            event  time  amount  \\\n",
       "306484  fffad4f4828548d1b5583907f2e9906b      transaction   120    6.26   \n",
       "306485  fffad4f4828548d1b5583907f2e9906b   offer received   168     NaN   \n",
       "306486  fffad4f4828548d1b5583907f2e9906b     offer viewed   168     NaN   \n",
       "306487  fffad4f4828548d1b5583907f2e9906b      transaction   198    5.63   \n",
       "306488  fffad4f4828548d1b5583907f2e9906b      transaction   312    8.20   \n",
       "306489  fffad4f4828548d1b5583907f2e9906b      transaction   324    2.05   \n",
       "306490  fffad4f4828548d1b5583907f2e9906b      transaction   402    8.14   \n",
       "306491  fffad4f4828548d1b5583907f2e9906b   offer received   408     NaN   \n",
       "306492  fffad4f4828548d1b5583907f2e9906b     offer viewed   510     NaN   \n",
       "306493  fffad4f4828548d1b5583907f2e9906b      transaction   516   12.18   \n",
       "306494  fffad4f4828548d1b5583907f2e9906b  offer completed   516     NaN   \n",
       "306495  fffad4f4828548d1b5583907f2e9906b      transaction   558    7.97   \n",
       "306496  fffad4f4828548d1b5583907f2e9906b   offer received   576     NaN   \n",
       "306497  fffad4f4828548d1b5583907f2e9906b      transaction   588   10.98   \n",
       "306498  fffad4f4828548d1b5583907f2e9906b  offer completed   588     NaN   \n",
       "306499  fffad4f4828548d1b5583907f2e9906b     offer viewed   666     NaN   \n",
       "306500  fffad4f4828548d1b5583907f2e9906b      transaction   678    7.06   \n",
       "306501  ffff82501cea40309d5fdd7edcca4a07   offer received     0     NaN   \n",
       "306502  ffff82501cea40309d5fdd7edcca4a07     offer viewed     6     NaN   \n",
       "306503  ffff82501cea40309d5fdd7edcca4a07      transaction    60   16.06   \n",
       "306504  ffff82501cea40309d5fdd7edcca4a07  offer completed    60     NaN   \n",
       "306505  ffff82501cea40309d5fdd7edcca4a07      transaction    78    7.18   \n",
       "306506  ffff82501cea40309d5fdd7edcca4a07      transaction   120    9.12   \n",
       "306507  ffff82501cea40309d5fdd7edcca4a07   offer received   168     NaN   \n",
       "306508  ffff82501cea40309d5fdd7edcca4a07     offer viewed   174     NaN   \n",
       "306509  ffff82501cea40309d5fdd7edcca4a07      transaction   198   22.88   \n",
       "306510  ffff82501cea40309d5fdd7edcca4a07  offer completed   198     NaN   \n",
       "306511  ffff82501cea40309d5fdd7edcca4a07      transaction   204   15.23   \n",
       "306512  ffff82501cea40309d5fdd7edcca4a07      transaction   234   18.08   \n",
       "306513  ffff82501cea40309d5fdd7edcca4a07      transaction   264   23.32   \n",
       "306514  ffff82501cea40309d5fdd7edcca4a07      transaction   312   16.86   \n",
       "306515  ffff82501cea40309d5fdd7edcca4a07   offer received   336     NaN   \n",
       "306516  ffff82501cea40309d5fdd7edcca4a07     offer viewed   354     NaN   \n",
       "306517  ffff82501cea40309d5fdd7edcca4a07      transaction   384   15.57   \n",
       "306518  ffff82501cea40309d5fdd7edcca4a07  offer completed   384     NaN   \n",
       "306519  ffff82501cea40309d5fdd7edcca4a07   offer received   408     NaN   \n",
       "306520  ffff82501cea40309d5fdd7edcca4a07     offer viewed   414     NaN   \n",
       "306521  ffff82501cea40309d5fdd7edcca4a07      transaction   414   17.55   \n",
       "306522  ffff82501cea40309d5fdd7edcca4a07  offer completed   414     NaN   \n",
       "306523  ffff82501cea40309d5fdd7edcca4a07      transaction   498   13.17   \n",
       "306524  ffff82501cea40309d5fdd7edcca4a07   offer received   504     NaN   \n",
       "306525  ffff82501cea40309d5fdd7edcca4a07      transaction   504    7.79   \n",
       "306526  ffff82501cea40309d5fdd7edcca4a07  offer completed   504     NaN   \n",
       "306527  ffff82501cea40309d5fdd7edcca4a07     offer viewed   534     NaN   \n",
       "306528  ffff82501cea40309d5fdd7edcca4a07   offer received   576     NaN   \n",
       "306529  ffff82501cea40309d5fdd7edcca4a07      transaction   576   14.23   \n",
       "306530  ffff82501cea40309d5fdd7edcca4a07  offer completed   576     NaN   \n",
       "306531  ffff82501cea40309d5fdd7edcca4a07     offer viewed   582     NaN   \n",
       "306532  ffff82501cea40309d5fdd7edcca4a07      transaction   606   10.12   \n",
       "306533  ffff82501cea40309d5fdd7edcca4a07      transaction   648   18.91   \n",
       "\n",
       "                                offer_id                      channels  \\\n",
       "306484  f19421c1d4aa40978ebb69ca19b0e20d  [web, email, mobile, social]   \n",
       "306485  5a8bc65990b245e5a138643cd4eb9837       [email, mobile, social]   \n",
       "306486  5a8bc65990b245e5a138643cd4eb9837       [email, mobile, social]   \n",
       "306487  5a8bc65990b245e5a138643cd4eb9837       [email, mobile, social]   \n",
       "306488  5a8bc65990b245e5a138643cd4eb9837       [email, mobile, social]   \n",
       "306489  5a8bc65990b245e5a138643cd4eb9837       [email, mobile, social]   \n",
       "306490  5a8bc65990b245e5a138643cd4eb9837       [email, mobile, social]   \n",
       "306491  f19421c1d4aa40978ebb69ca19b0e20d  [web, email, mobile, social]   \n",
       "306492  f19421c1d4aa40978ebb69ca19b0e20d  [web, email, mobile, social]   \n",
       "306493  f19421c1d4aa40978ebb69ca19b0e20d  [web, email, mobile, social]   \n",
       "306494  f19421c1d4aa40978ebb69ca19b0e20d  [web, email, mobile, social]   \n",
       "306495  f19421c1d4aa40978ebb69ca19b0e20d  [web, email, mobile, social]   \n",
       "306496  9b98b8c7a33c4b65b9aebfe6a799e6d9          [web, email, mobile]   \n",
       "306497  f19421c1d4aa40978ebb69ca19b0e20d  [web, email, mobile, social]   \n",
       "306498  9b98b8c7a33c4b65b9aebfe6a799e6d9          [web, email, mobile]   \n",
       "306499  9b98b8c7a33c4b65b9aebfe6a799e6d9          [web, email, mobile]   \n",
       "306500  9b98b8c7a33c4b65b9aebfe6a799e6d9          [web, email, mobile]   \n",
       "306501  fafdcd668e3743c1bb461111dcafc2a4  [web, email, mobile, social]   \n",
       "306502  fafdcd668e3743c1bb461111dcafc2a4  [web, email, mobile, social]   \n",
       "306503  fafdcd668e3743c1bb461111dcafc2a4  [web, email, mobile, social]   \n",
       "306504  fafdcd668e3743c1bb461111dcafc2a4  [web, email, mobile, social]   \n",
       "306505  fafdcd668e3743c1bb461111dcafc2a4  [web, email, mobile, social]   \n",
       "306506  fafdcd668e3743c1bb461111dcafc2a4  [web, email, mobile, social]   \n",
       "306507  0b1e1539f2cc45b7b9fa7c272da2e1d7                  [web, email]   \n",
       "306508  0b1e1539f2cc45b7b9fa7c272da2e1d7                  [web, email]   \n",
       "306509  0b1e1539f2cc45b7b9fa7c272da2e1d7                  [web, email]   \n",
       "306510  0b1e1539f2cc45b7b9fa7c272da2e1d7                  [web, email]   \n",
       "306511  0b1e1539f2cc45b7b9fa7c272da2e1d7                  [web, email]   \n",
       "306512  0b1e1539f2cc45b7b9fa7c272da2e1d7                  [web, email]   \n",
       "306513  0b1e1539f2cc45b7b9fa7c272da2e1d7                  [web, email]   \n",
       "306514  0b1e1539f2cc45b7b9fa7c272da2e1d7                  [web, email]   \n",
       "306515  2906b810c7d4411798c6938adc9daaa5          [web, email, mobile]   \n",
       "306516  2906b810c7d4411798c6938adc9daaa5          [web, email, mobile]   \n",
       "306517  2906b810c7d4411798c6938adc9daaa5          [web, email, mobile]   \n",
       "306518  2906b810c7d4411798c6938adc9daaa5          [web, email, mobile]   \n",
       "306519  2906b810c7d4411798c6938adc9daaa5          [web, email, mobile]   \n",
       "306520  2906b810c7d4411798c6938adc9daaa5          [web, email, mobile]   \n",
       "306521  2906b810c7d4411798c6938adc9daaa5          [web, email, mobile]   \n",
       "306522  2906b810c7d4411798c6938adc9daaa5          [web, email, mobile]   \n",
       "306523  2906b810c7d4411798c6938adc9daaa5          [web, email, mobile]   \n",
       "306524  9b98b8c7a33c4b65b9aebfe6a799e6d9          [web, email, mobile]   \n",
       "306525  2906b810c7d4411798c6938adc9daaa5          [web, email, mobile]   \n",
       "306526  9b98b8c7a33c4b65b9aebfe6a799e6d9          [web, email, mobile]   \n",
       "306527  9b98b8c7a33c4b65b9aebfe6a799e6d9          [web, email, mobile]   \n",
       "306528  2906b810c7d4411798c6938adc9daaa5          [web, email, mobile]   \n",
       "306529  9b98b8c7a33c4b65b9aebfe6a799e6d9          [web, email, mobile]   \n",
       "306530  2906b810c7d4411798c6938adc9daaa5          [web, email, mobile]   \n",
       "306531  2906b810c7d4411798c6938adc9daaa5          [web, email, mobile]   \n",
       "306532  2906b810c7d4411798c6938adc9daaa5          [web, email, mobile]   \n",
       "306533  2906b810c7d4411798c6938adc9daaa5          [web, email, mobile]   \n",
       "\n",
       "        difficulty  duration     offer_type  reward  \n",
       "306484           5         5           bogo     5.0  \n",
       "306485           0         3  informational     0.0  \n",
       "306486           0         3  informational     0.0  \n",
       "306487           0         3  informational     0.0  \n",
       "306488           0         3  informational     0.0  \n",
       "306489           0         3  informational     0.0  \n",
       "306490           0         3  informational     0.0  \n",
       "306491           5         5           bogo     5.0  \n",
       "306492           5         5           bogo     5.0  \n",
       "306493           5         5           bogo     5.0  \n",
       "306494           5         5           bogo     5.0  \n",
       "306495           5         5           bogo     5.0  \n",
       "306496           5         7           bogo     5.0  \n",
       "306497           5         5           bogo     5.0  \n",
       "306498           5         7           bogo     5.0  \n",
       "306499           5         7           bogo     5.0  \n",
       "306500           5         7           bogo     5.0  \n",
       "306501          10        10       discount     2.0  \n",
       "306502          10        10       discount     2.0  \n",
       "306503          10        10       discount     2.0  \n",
       "306504          10        10       discount     2.0  \n",
       "306505          10        10       discount     2.0  \n",
       "306506          10        10       discount     2.0  \n",
       "306507          20        10       discount     5.0  \n",
       "306508          20        10       discount     5.0  \n",
       "306509          20        10       discount     5.0  \n",
       "306510          20        10       discount     5.0  \n",
       "306511          20        10       discount     5.0  \n",
       "306512          20        10       discount     5.0  \n",
       "306513          20        10       discount     5.0  \n",
       "306514          20        10       discount     5.0  \n",
       "306515          10         7       discount     2.0  \n",
       "306516          10         7       discount     2.0  \n",
       "306517          10         7       discount     2.0  \n",
       "306518          10         7       discount     2.0  \n",
       "306519          10         7       discount     2.0  \n",
       "306520          10         7       discount     2.0  \n",
       "306521          10         7       discount     2.0  \n",
       "306522          10         7       discount     2.0  \n",
       "306523          10         7       discount     2.0  \n",
       "306524           5         7           bogo     5.0  \n",
       "306525          10         7       discount     2.0  \n",
       "306526           5         7           bogo     5.0  \n",
       "306527           5         7           bogo     5.0  \n",
       "306528          10         7       discount     2.0  \n",
       "306529           5         7           bogo     5.0  \n",
       "306530          10         7       discount     2.0  \n",
       "306531          10         7       discount     2.0  \n",
       "306532          10         7       discount     2.0  \n",
       "306533          10         7       discount     2.0  "
      ]
     },
     "execution_count": 157,
     "metadata": {},
     "output_type": "execute_result"
    }
   ],
   "source": [
    "transcript.tail(50)"
   ]
  },
  {
   "cell_type": "markdown",
   "metadata": {},
   "source": [
    "### Data Preprocessing"
   ]
  },
  {
   "cell_type": "markdown",
   "metadata": {},
   "source": [
    "Since event 'transaction' does not have any offer id attached, we cant yet merge transcript data with portfolio data."
   ]
  },
  {
   "cell_type": "markdown",
   "metadata": {},
   "source": [
    "For assigning offer id to transaction event, we first need to understand the possible customers and subsequent scenarios:"
   ]
  },
  {
   "cell_type": "markdown",
   "metadata": {},
   "source": [
    "**1. People who are influenced and successfully convert - Successful Offers:**\n",
    "\n",
    "- 'offer received' -> 'offer viewed' -> 'transaction' -> 'offer completed' (BOGO/discount offers)\n",
    "- 'offer received' -> 'offer viewed' -> 'transaction' (informational offers - must be within validity/period of offer)\n",
    "\n",
    "**2. People who received and viewed an offer but did not successfully convert - Unsuccessful Offers:**\n",
    "\n",
    "- 'offer received' -> 'offer viewed'\n",
    "\n",
    "**3. People who purchase/complete offers regardless of awareness of any offers - No need to send any offers:**\n",
    "\n",
    "- 'transaction'\n",
    "- 'offer received' -> 'transaction' -> 'offer completed' -> 'offer viewed'\n",
    "- 'transaction' -> 'offer received' -> 'offer completed' -> 'offer viewed'\n",
    "- 'offer received' -> 'transaction' -> 'offer viewed' -> 'offer completed'\n",
    "- 'offer received' -> 'transaction' (informational offers)\n",
    "- 'offer received' -> 'transaction' -> 'offer viewed' (informational offers)\n",
    "\n",
    "**4. People who received offers but no action taken - Low priority customers:**\n",
    "\n",
    "- 'offer received'\n",
    "\n",
    "Hence, we can eliminate groups 3 & 4 from modelling scope. Though, we will try to find common traits of such customers"
   ]
  },
  {
   "cell_type": "markdown",
   "metadata": {},
   "source": [
    "Now, we can easily assign offer id to 'transaction' events based on the id of 'offer viewed' event which occured prior to it."
   ]
  },
  {
   "cell_type": "code",
   "execution_count": null,
   "metadata": {
    "scrolled": true
   },
   "outputs": [],
   "source": [
    "#Sorting by customer and time\n",
    "transcript=transcript.sort_values(['person','time']).drop(['value'],axis=1)"
   ]
  },
  {
   "cell_type": "code",
   "execution_count": 159,
   "metadata": {},
   "outputs": [],
   "source": [
    "df=transcript[['time','offer_id','person','event']][(transcript['event']=='transaction') | (transcript['event']=='offer viewed')].sort_values(['person','time'])"
   ]
  },
  {
   "cell_type": "code",
   "execution_count": 160,
   "metadata": {},
   "outputs": [],
   "source": [
    "df['offer_id']=df['offer_id'].ffill()"
   ]
  },
  {
   "cell_type": "code",
   "execution_count": null,
   "metadata": {},
   "outputs": [],
   "source": [
    "transcript=transcript.merge(df,how='left',on=['person','time','event'])"
   ]
  },
  {
   "cell_type": "code",
   "execution_count": null,
   "metadata": {},
   "outputs": [],
   "source": [
    "transcript['offer_id']=np.where(transcript['offer_id_x'].isnull(),transcript['offer_id_y'],transcript['offer_id_x'])"
   ]
  },
  {
   "cell_type": "code",
   "execution_count": null,
   "metadata": {},
   "outputs": [],
   "source": [
    "transcript.drop(['offer_id_x','offer_id_y'],axis=1,inplace=True);"
   ]
  },
  {
   "cell_type": "code",
   "execution_count": null,
   "metadata": {},
   "outputs": [],
   "source": [
    "#merge portfolio dataset again to get offer data for the transaction events\n",
    "transcript=transcript.merge(portfolio,how='left',left_on='offer_id',right_on='id')"
   ]
  },
  {
   "cell_type": "code",
   "execution_count": null,
   "metadata": {},
   "outputs": [],
   "source": [
    "transcript['reward']=np.where(transcript['reward_x'].isnull(),transcript['reward_y'],transcript['reward_x'])\n",
    "transcript.drop(['reward_x','reward_y','id'],axis=1,inplace=True)"
   ]
  },
  {
   "cell_type": "markdown",
   "metadata": {},
   "source": [
    "Now, we need to flag successful offer. So, as long as the events 'offer viewed', 'transaction', and 'offer completed' occur in the corrrect sequence of time for the same offer, we can be assured that it is a transaction and/or completed offer occurring only after an offer is viewed."
   ]
  },
  {
   "cell_type": "code",
   "execution_count": 161,
   "metadata": {},
   "outputs": [],
   "source": [
    "df = transcript[(transcript['event']=='offer viewed') | (transcript['event']=='transaction') | (transcript['event']=='offer completed')].copy()"
   ]
  },
  {
   "cell_type": "code",
   "execution_count": 162,
   "metadata": {},
   "outputs": [],
   "source": [
    "df['offer_id_previous'] = df.groupby(['person','offer_id'])['offer_id'].shift()"
   ]
  },
  {
   "cell_type": "code",
   "execution_count": 163,
   "metadata": {},
   "outputs": [],
   "source": [
    "#flag a completed transaction/offer completed as long as the previous offer id consists of events in the same sample space\n",
    "df['valid_completed']=np.where(df['offer_id_previous']==df['offer_id'],1,0)"
   ]
  },
  {
   "cell_type": "markdown",
   "metadata": {},
   "source": [
    "Imposing at least 1 Offer viewed event condition on each person-offer id combination"
   ]
  },
  {
   "cell_type": "code",
   "execution_count": 164,
   "metadata": {},
   "outputs": [],
   "source": [
    "check = df.groupby(['person','offer_id','event']).size().reset_index()"
   ]
  },
  {
   "cell_type": "code",
   "execution_count": 165,
   "metadata": {},
   "outputs": [],
   "source": [
    "check1 = check[['person','offer_id']][check['event']=='offer viewed'].drop_duplicates()\n",
    "check1['flag']=1"
   ]
  },
  {
   "cell_type": "code",
   "execution_count": 166,
   "metadata": {},
   "outputs": [],
   "source": [
    "df1 = df.merge(check1,on=['person','offer_id'],how='left')"
   ]
  },
  {
   "cell_type": "code",
   "execution_count": 167,
   "metadata": {
    "scrolled": true
   },
   "outputs": [],
   "source": [
    "df1['valid_completed']=np.where(df1['flag'].isna(),0,df1['valid_completed'])"
   ]
  },
  {
   "cell_type": "code",
   "execution_count": 168,
   "metadata": {},
   "outputs": [
    {
     "name": "stderr",
     "output_type": "stream",
     "text": [
      "/home/ec2-user/anaconda3/envs/pytorch_p36/lib/python3.6/site-packages/ipykernel/__main__.py:5: SettingWithCopyWarning: \n",
      "A value is trying to be set on a copy of a slice from a DataFrame.\n",
      "Try using .loc[row_indexer,col_indexer] = value instead\n",
      "\n",
      "See the caveats in the documentation: https://pandas.pydata.org/pandas-docs/stable/user_guide/indexing.html#returning-a-view-versus-a-copy\n",
      "/home/ec2-user/anaconda3/envs/pytorch_p36/lib/python3.6/site-packages/ipykernel/__main__.py:6: SettingWithCopyWarning: \n",
      "A value is trying to be set on a copy of a slice from a DataFrame.\n",
      "Try using .loc[row_indexer,col_indexer] = value instead\n",
      "\n",
      "See the caveats in the documentation: https://pandas.pydata.org/pandas-docs/stable/user_guide/indexing.html#returning-a-view-versus-a-copy\n"
     ]
    }
   ],
   "source": [
    "#get only offer received events\n",
    "offers_received=transcript[transcript['event']=='offer received']\n",
    "\n",
    "#ensure all columns are the same between datasets to be appended\n",
    "offers_received['offer_id_previous']=np.nan\n",
    "offers_received['valid_completed']=np.nan\n",
    "\n",
    "#append datasets to complete dataset of transactions\n",
    "df_transcript=offers_received.append(df1)\n",
    "\n",
    "#sort values\n",
    "df_transcript=df_transcript.sort_values(['person','time'])"
   ]
  },
  {
   "cell_type": "code",
   "execution_count": 169,
   "metadata": {},
   "outputs": [],
   "source": [
    "transcript_bogo = df_transcript[df_transcript['offer_type']=='bogo']\n",
    "transcript_discount = df_transcript[df_transcript['offer_type']=='discount']\n",
    "transcript_info = df_transcript[df_transcript['offer_type']=='informational']"
   ]
  },
  {
   "cell_type": "code",
   "execution_count": 170,
   "metadata": {},
   "outputs": [],
   "source": [
    "grp_bogo = transcript_bogo[['person','offer_id']][(transcript_bogo['valid_completed']==1) & (transcript_bogo['event']=='offer completed')].groupby(['person','offer_id']).count().reset_index()"
   ]
  },
  {
   "cell_type": "code",
   "execution_count": 171,
   "metadata": {},
   "outputs": [],
   "source": [
    "grp_discount = transcript_discount[['person','offer_id']][(transcript_discount['valid_completed']==1) & (transcript_discount['event']=='offer completed')].groupby(['person','offer_id']).count().reset_index()"
   ]
  },
  {
   "cell_type": "code",
   "execution_count": 172,
   "metadata": {},
   "outputs": [
    {
     "name": "stdout",
     "output_type": "stream",
     "text": [
      "Successful offers:\n",
      "Bogo:10252\n",
      "Discount:11347\n"
     ]
    }
   ],
   "source": [
    "print(\"Successful offers:\\nBogo:{}\\nDiscount:{}\".format(grp_bogo.shape[0],grp_discount.shape[0]))"
   ]
  },
  {
   "cell_type": "markdown",
   "metadata": {},
   "source": [
    "Now we will separate group 2 and group 4 unique person-offer_ids for BOGO and discount offers as we just need to look at Unsuccessful Offers - the subset of people with offer received, offer viewed, but no conversion events. We will assume that every person who views an offer would have had an offer received event prior."
   ]
  },
  {
   "cell_type": "code",
   "execution_count": 173,
   "metadata": {},
   "outputs": [],
   "source": [
    "bogo_offers_received_only=transcript_bogo[['person','offer_id']][transcript_bogo['event']=='offer received'].groupby(['person','offer_id']).count().reset_index()"
   ]
  },
  {
   "cell_type": "code",
   "execution_count": 174,
   "metadata": {},
   "outputs": [],
   "source": [
    "discount_offers_received_only=transcript_discount[['person','offer_id']][transcript_discount['event']=='offer received'].groupby(['person','offer_id']).count().reset_index()"
   ]
  },
  {
   "cell_type": "code",
   "execution_count": 175,
   "metadata": {},
   "outputs": [],
   "source": [
    "bogo_conversion_ids=transcript_bogo[['person','offer_id']][(transcript_bogo['event']=='transaction') | (transcript_bogo['event']=='offer completed') ].groupby(['person','offer_id']).count().reset_index()\n",
    "discount_conversion_ids=transcript_discount[['person','offer_id']][(transcript_discount['event']=='transaction') | (transcript_discount['event']=='offer completed') ].groupby(['person','offer_id']).count().reset_index()"
   ]
  },
  {
   "cell_type": "code",
   "execution_count": 176,
   "metadata": {},
   "outputs": [],
   "source": [
    "bogo_merge=bogo_conversion_ids.merge(bogo_offers_received_only,how='right',on=['person','offer_id'],indicator=True)\n",
    "discount_merge=discount_conversion_ids.merge(discount_offers_received_only,how='right',on=['person','offer_id'],indicator=True)"
   ]
  },
  {
   "cell_type": "code",
   "execution_count": 177,
   "metadata": {},
   "outputs": [
    {
     "data": {
      "text/html": [
       "<div>\n",
       "<style scoped>\n",
       "    .dataframe tbody tr th:only-of-type {\n",
       "        vertical-align: middle;\n",
       "    }\n",
       "\n",
       "    .dataframe tbody tr th {\n",
       "        vertical-align: top;\n",
       "    }\n",
       "\n",
       "    .dataframe thead th {\n",
       "        text-align: right;\n",
       "    }\n",
       "</style>\n",
       "<table border=\"1\" class=\"dataframe\">\n",
       "  <thead>\n",
       "    <tr style=\"text-align: right;\">\n",
       "      <th></th>\n",
       "      <th>person</th>\n",
       "      <th>offer_id</th>\n",
       "    </tr>\n",
       "    <tr>\n",
       "      <th>_merge</th>\n",
       "      <th></th>\n",
       "      <th></th>\n",
       "    </tr>\n",
       "  </thead>\n",
       "  <tbody>\n",
       "    <tr>\n",
       "      <th>left_only</th>\n",
       "      <td>0</td>\n",
       "      <td>0</td>\n",
       "    </tr>\n",
       "    <tr>\n",
       "      <th>right_only</th>\n",
       "      <td>4729</td>\n",
       "      <td>4729</td>\n",
       "    </tr>\n",
       "    <tr>\n",
       "      <th>both</th>\n",
       "      <td>20592</td>\n",
       "      <td>20592</td>\n",
       "    </tr>\n",
       "  </tbody>\n",
       "</table>\n",
       "</div>"
      ],
      "text/plain": [
       "            person  offer_id\n",
       "_merge                      \n",
       "left_only        0         0\n",
       "right_only    4729      4729\n",
       "both         20592     20592"
      ]
     },
     "execution_count": 177,
     "metadata": {},
     "output_type": "execute_result"
    }
   ],
   "source": [
    "bogo_merge.groupby(['_merge']).count()"
   ]
  },
  {
   "cell_type": "code",
   "execution_count": 178,
   "metadata": {},
   "outputs": [
    {
     "data": {
      "text/html": [
       "<div>\n",
       "<style scoped>\n",
       "    .dataframe tbody tr th:only-of-type {\n",
       "        vertical-align: middle;\n",
       "    }\n",
       "\n",
       "    .dataframe tbody tr th {\n",
       "        vertical-align: top;\n",
       "    }\n",
       "\n",
       "    .dataframe thead th {\n",
       "        text-align: right;\n",
       "    }\n",
       "</style>\n",
       "<table border=\"1\" class=\"dataframe\">\n",
       "  <thead>\n",
       "    <tr style=\"text-align: right;\">\n",
       "      <th></th>\n",
       "      <th>person</th>\n",
       "      <th>offer_id</th>\n",
       "    </tr>\n",
       "    <tr>\n",
       "      <th>_merge</th>\n",
       "      <th></th>\n",
       "      <th></th>\n",
       "    </tr>\n",
       "  </thead>\n",
       "  <tbody>\n",
       "    <tr>\n",
       "      <th>left_only</th>\n",
       "      <td>0</td>\n",
       "      <td>0</td>\n",
       "    </tr>\n",
       "    <tr>\n",
       "      <th>right_only</th>\n",
       "      <td>6415</td>\n",
       "      <td>6415</td>\n",
       "    </tr>\n",
       "    <tr>\n",
       "      <th>both</th>\n",
       "      <td>18901</td>\n",
       "      <td>18901</td>\n",
       "    </tr>\n",
       "  </tbody>\n",
       "</table>\n",
       "</div>"
      ],
      "text/plain": [
       "            person  offer_id\n",
       "_merge                      \n",
       "left_only        0         0\n",
       "right_only    6415      6415\n",
       "both         18901     18901"
      ]
     },
     "execution_count": 178,
     "metadata": {},
     "output_type": "execute_result"
    }
   ],
   "source": [
    "discount_merge.groupby(['_merge']).count()"
   ]
  },
  {
   "cell_type": "markdown",
   "metadata": {},
   "source": [
    "So, we see 4,729 and 6,415 unique person-offer_id pairs that have offer received events, but no conversion events for Bogo and Discount offers respectively. These would be considered offers in group 2 and 4 within each offer type, according to our definition above"
   ]
  },
  {
   "cell_type": "markdown",
   "metadata": {},
   "source": [
    "People with an offer viewed event in this subset are definitely in group 2, based on our assumption that everyone with an offer viewed event has an offer received event prior."
   ]
  },
  {
   "cell_type": "code",
   "execution_count": null,
   "metadata": {},
   "outputs": [],
   "source": [
    "#Getting Group 2 for Bogo\n",
    "grp_2_4=bogo_merge[bogo_merge['_merge']=='right_only']\n",
    "grp_2_4=grp_2_4.merge(df_transcript,how='left',on=['person','offer_id'])\n",
    "bogo_grp2=grp_2_4[['person','offer_id']][grp_2_4['event']=='offer viewed'].groupby(['person','offer_id']).count().reset_index()\n",
    "grp_2_4.drop(['_merge'],axis=1,inplace=True)\n",
    "bogo_grp4 = grp_2_4.merge(bogo_grp2[['person','offer_id']],how='left',indicator=True)\n",
    "bogo_grp4 = bogo_grp4[bogo_grp4['_merge']=='left_only']"
   ]
  },
  {
   "cell_type": "code",
   "execution_count": null,
   "metadata": {},
   "outputs": [],
   "source": [
    "#Getting Group 2 for Discount\n",
    "grp_2_4=discount_merge[discount_merge['_merge']=='right_only']\n",
    "grp_2_4=grp_2_4.merge(df_transcript,how='left',on=['person','offer_id'])\n",
    "discount_grp2=grp_2_4[['person','offer_id']][grp_2_4['event']=='offer viewed'].groupby(['person','offer_id']).count().reset_index()\n",
    "grp_2_4.drop(['_merge'],axis=1,inplace=True)\n",
    "discount_grp4 = grp_2_4.merge(discount_grp2[['person','offer_id']],how='left',indicator=True)\n",
    "discount_grp4 = discount_grp4[discount_grp4['_merge']=='left_only']"
   ]
  },
  {
   "cell_type": "markdown",
   "metadata": {},
   "source": [
    "Group 3 people have conversion events but no prior offer viewed event. For BOGO and discount offers, they would be people with offer completed events that have valid_completed != 1."
   ]
  },
  {
   "cell_type": "code",
   "execution_count": null,
   "metadata": {},
   "outputs": [],
   "source": [
    "bogo_grp3 = transcript_bogo[['person','offer_id']][(transcript_bogo['event']=='offer completed') & (transcript_bogo['valid_completed']!=1)].groupby(['person','offer_id']).count().reset_index()"
   ]
  },
  {
   "cell_type": "code",
   "execution_count": null,
   "metadata": {},
   "outputs": [],
   "source": [
    "discount_grp3 = transcript_discount[['person','offer_id']][(transcript_discount['event']=='offer completed') & (transcript_discount['valid_completed']!=1)].groupby(['person','offer_id']).count().reset_index()"
   ]
  },
  {
   "cell_type": "markdown",
   "metadata": {},
   "source": [
    "Creating Final datasets - Taking Groups 1 & 2 and defining successful offers"
   ]
  },
  {
   "cell_type": "code",
   "execution_count": null,
   "metadata": {},
   "outputs": [],
   "source": [
    "grp_bogo['successful_offer']=1\n",
    "bogo_grp2['successful_offer']=0\n",
    "bogo_final = grp_bogo.append(bogo_grp2)"
   ]
  },
  {
   "cell_type": "code",
   "execution_count": null,
   "metadata": {},
   "outputs": [],
   "source": [
    "grp_discount['successful_offer']=1\n",
    "discount_grp2['successful_offer']=0\n",
    "discount_final = grp_discount.append(discount_grp2)"
   ]
  },
  {
   "cell_type": "markdown",
   "metadata": {},
   "source": [
    "Creating the same for Informational offers, but first need to take care of parameter - validity of offer"
   ]
  },
  {
   "cell_type": "code",
   "execution_count": null,
   "metadata": {},
   "outputs": [],
   "source": [
    "transcript_info['day_offer']=transcript_info['time']/24\n",
    "transcript_info.drop(['time','offer_id_previous'],axis=1,inplace=True)"
   ]
  },
  {
   "cell_type": "code",
   "execution_count": null,
   "metadata": {},
   "outputs": [],
   "source": [
    "transcript_info=transcript_info.sort_values(['person','day_offer','event','offer_id'])"
   ]
  },
  {
   "cell_type": "code",
   "execution_count": null,
   "metadata": {},
   "outputs": [],
   "source": [
    "transcript_info['diff_info']=transcript_info[((transcript_info['event']=='offer received') | (transcript_info['event']=='transaction'))].groupby(['person','offer_id'])['day_offer'].diff()"
   ]
  },
  {
   "cell_type": "code",
   "execution_count": null,
   "metadata": {},
   "outputs": [],
   "source": [
    "transcript_info['valid_completed_duration']=np.nan\n",
    "transcript_info.loc[transcript_info['diff_info']<=transcript_info['duration'],'valid_completed_duration']=1\n",
    "transcript_info['valid_completed_duration']=transcript_info['valid_completed_duration'].fillna(value=0)"
   ]
  },
  {
   "cell_type": "markdown",
   "metadata": {},
   "source": [
    "Now, 4 different scenarios are possible:\n",
    " - valid_completed=1 and valid_completed_duration=0 => completed transaction after offer viewed event, but not within duration\n",
    " - valid_completed=0/null and valid_completed_duration=1 => completed transaction within duration, but with no offer viewed event prior\n",
    " - valid_completed=1 and valid_completed_duration=1 => completed transaction within duration, with offer viewed event **(effective offer)**\n",
    " - valid_completed=0/null and valid_completed_duration=0 => did not complete transaction within duration, no offer viewed event prior"
   ]
  },
  {
   "cell_type": "markdown",
   "metadata": {},
   "source": [
    "We can see that:\n",
    " - Scenarios 1 and 2 can be considered to be actions that would put the customer into our Group 3 of customer\n",
    " - Scenario 4 can be considered in group 4\n"
   ]
  },
  {
   "cell_type": "code",
   "execution_count": null,
   "metadata": {},
   "outputs": [],
   "source": [
    "transcript_info['effective_offer']=np.where(((transcript_info['valid_completed']==1) & (transcript_info['valid_completed_duration']==1)),1,0)\n",
    "grp1_info=transcript_info[['person','offer_id']][transcript_info['effective_offer']==1].groupby(['person','offer_id']).sum().reset_index()"
   ]
  },
  {
   "cell_type": "code",
   "execution_count": null,
   "metadata": {},
   "outputs": [],
   "source": [
    "info_offers_received_only=transcript_info[['person','offer_id']][transcript_info['event']=='offer received'].groupby(['person','offer_id']).count().reset_index()\n",
    "info_conversion_ids=transcript_info[['person','offer_id']][(transcript_info['event']=='transaction') | (transcript_info['event']=='offer completed') ].groupby(['person','offer_id']).count().reset_index()\n",
    "info_merge=info_conversion_ids.merge(info_offers_received_only,how='right',on=['person','offer_id'],indicator=True)\n",
    "info_merge.groupby(['_merge']).count()"
   ]
  },
  {
   "cell_type": "code",
   "execution_count": null,
   "metadata": {},
   "outputs": [],
   "source": [
    "#Getting Group 2 and 4 for Info\n",
    "grp_2_4=info_merge[info_merge['_merge']=='right_only']\n",
    "grp_2_4=grp_2_4.merge(df_transcript,how='left',on=['person','offer_id'])\n",
    "info_grp2=grp_2_4[['person','offer_id']][grp_2_4['event']=='offer viewed'].groupby(['person','offer_id']).count().reset_index()\n",
    "grp_2_4.drop(['_merge'],axis=1,inplace=True)\n",
    "info_grp4 = grp_2_4.merge(info_grp2[['person','offer_id']],how='left',indicator=True)\n",
    "info_grp4 = info_grp4[info_grp4['_merge']=='left_only']"
   ]
  },
  {
   "cell_type": "code",
   "execution_count": null,
   "metadata": {},
   "outputs": [],
   "source": [
    "# Group 3\n",
    "\n",
    "#scenario 1\n",
    "grp3_1=transcript_info[['person','offer_id']][(transcript_info['event']=='transaction')&(transcript_info['valid_completed']!=1) & (transcript_info['valid_completed_duration']==1)].groupby(['person','offer_id']).count().reset_index()\n",
    "#scenario 2\n",
    "grp3_2=transcript_info[['person','offer_id']][(transcript_info['event']=='transaction')&(transcript_info['valid_completed']==1) & (transcript_info['valid_completed_duration']!=1)].groupby(['person','offer_id']).count().reset_index()\n",
    "grp3_info=grp3_1.append(grp3_2)"
   ]
  },
  {
   "cell_type": "code",
   "execution_count": null,
   "metadata": {},
   "outputs": [],
   "source": [
    "grp1_info['successful_offer']=1\n",
    "info_grp2['successful_offer']=0\n",
    "info_final = grp1_info.append(info_grp2)"
   ]
  },
  {
   "cell_type": "markdown",
   "metadata": {},
   "source": [
    "Finally, we have split our customers into 4 different segments and also identified successful & unsuccessful offers !!"
   ]
  },
  {
   "cell_type": "markdown",
   "metadata": {},
   "source": [
    "Now, we will do some **feature engineering** & create some additional features for model building"
   ]
  },
  {
   "cell_type": "code",
   "execution_count": null,
   "metadata": {},
   "outputs": [],
   "source": [
    "#Feature - Membership tenure days\n",
    "i=0\n",
    "for df in [info_final,bogo_final,discount_final]:\n",
    "    df=df.merge(profile,how='left',left_on='person',right_on='id')\n",
    "    df['year']=pd.Series([int(str(x)[:4]) for x in df['became_member_on']])\n",
    "    df['month']=pd.Series([int(str(x)[-3]) for x in df['became_member_on']])\n",
    "    df['day']=pd.Series([int(str(x)[-2:]) for x in df['became_member_on']])\n",
    "    df=df.drop(['became_member_on'],axis=1)\n",
    "    df.loc[df['year'] == 2018, 'membership_tenure_days'] = (30*df['month'])+df['day']\n",
    "    df.loc[df['year'] != 2018, 'membership_tenure_days'] = ((2018-df['year'])*365)+(30*df['month'])+df['day']\n",
    "    df=df.drop(['year','month','day'],axis=1)\n",
    "    i += 1\n",
    "    if i==1:\n",
    "        info_final = df.copy()\n",
    "    elif i==2:\n",
    "        bogo_final = df.copy()\n",
    "    else:\n",
    "        discount_final = df.copy()        "
   ]
  },
  {
   "cell_type": "code",
   "execution_count": null,
   "metadata": {},
   "outputs": [],
   "source": [
    "# Feature - Day of receiving first offer\n",
    "df_transcript['day_offer']=df_transcript['time']/24"
   ]
  },
  {
   "cell_type": "code",
   "execution_count": null,
   "metadata": {},
   "outputs": [],
   "source": [
    "df_transcript['day_offer']=df_transcript['day_offer'].round()"
   ]
  },
  {
   "cell_type": "code",
   "execution_count": null,
   "metadata": {},
   "outputs": [],
   "source": [
    "df=df_transcript[['person','offer_id','day_offer']][df_transcript['event']=='offer received']"
   ]
  },
  {
   "cell_type": "code",
   "execution_count": null,
   "metadata": {
    "scrolled": false
   },
   "outputs": [],
   "source": [
    "df=df.groupby(['person','offer_id'])['day_offer'].min().reset_index()"
   ]
  },
  {
   "cell_type": "markdown",
   "metadata": {},
   "source": [
    "Merging features with datasets"
   ]
  },
  {
   "cell_type": "code",
   "execution_count": null,
   "metadata": {},
   "outputs": [],
   "source": [
    "bogo_final=bogo_final.merge(df,how='left',on=['person','offer_id'])\n",
    "bogo_final.drop(['id'],axis=1,inplace=True)"
   ]
  },
  {
   "cell_type": "code",
   "execution_count": null,
   "metadata": {},
   "outputs": [],
   "source": [
    "info_final=info_final.merge(df,how='left',on=['person','offer_id'])\n",
    "info_final.drop(['id'],axis=1,inplace=True)\n",
    "discount_final=discount_final.merge(df,how='left',on=['person','offer_id'])\n",
    "discount_final.drop(['id'],axis=1,inplace=True)"
   ]
  },
  {
   "cell_type": "markdown",
   "metadata": {},
   "source": [
    "Removing rows with null values in gender & income columns"
   ]
  },
  {
   "cell_type": "code",
   "execution_count": null,
   "metadata": {},
   "outputs": [],
   "source": [
    "bogo_final.dropna(inplace=True)\n",
    "info_final.dropna(inplace=True)\n",
    "discount_final.dropna(inplace=True)"
   ]
  },
  {
   "cell_type": "code",
   "execution_count": null,
   "metadata": {},
   "outputs": [],
   "source": [
    "def prep_df(df):\n",
    "        \n",
    "    #merge with portfolio to get offer details\n",
    "    df=df.merge(portfolio,how='left',left_on='offer_id',right_on='id')\n",
    "    df = df.drop(['id'],axis=1)\n",
    "\n",
    "    #convert channels into categorical variables\n",
    "    channels = df['channels'].apply(pd.Series)\n",
    "    channels = channels.rename(columns={0:'web',1:'email',2:'mobile',3:'social'})\n",
    "    df=pd.concat([df[:], channels[:]], axis=1)\n",
    "    df['web']=np.where(df['web']=='web',1,0)\n",
    "    df['email']=np.where(df['email']=='email',1,0)\n",
    "    df['mobile']=np.where(df['mobile']=='mobile',1,0)\n",
    "    df['social']=np.where(df['social']=='social',1,0)\n",
    "    df=df.drop(['channels'],axis=1)\n",
    "    \n",
    "    #convert gender column into dummy variables\n",
    "    df=pd.concat([df[:],pd.get_dummies(df['gender'],prefix='gender')],axis=1)\n",
    "    df=df.drop(['gender'],axis=1)\n",
    "\n",
    "    return df"
   ]
  },
  {
   "cell_type": "code",
   "execution_count": null,
   "metadata": {},
   "outputs": [],
   "source": [
    "offers_discount=prep_df(discount_final)\n",
    "offers_bogo=prep_df(bogo_final)"
   ]
  },
  {
   "cell_type": "code",
   "execution_count": null,
   "metadata": {},
   "outputs": [],
   "source": [
    "def prep_info_df(df):\n",
    "        \n",
    "    #merge with portfolio to get offer details\n",
    "    df=df.merge(portfolio,how='left',left_on='offer_id',right_on='id')\n",
    "    df = df.drop(['id'],axis=1)\n",
    "\n",
    "    #convert channels into categorical variables\n",
    "    df['web']= np.nan\n",
    "    df.loc[pd.Series(['web' in df['channels'][x] for x in range(len(df['channels']))]),'web']=1\n",
    "    df['web']=df['web'].fillna(value=0)\n",
    "    \n",
    "    df['email']= np.nan\n",
    "    df.loc[pd.Series(['email' in df['channels'][x] for x in range(len(df['channels']))]),'email']=1\n",
    "    df['email']=df['email'].fillna(value=0)\n",
    "    \n",
    "    df['mobile']= np.nan\n",
    "    df.loc[pd.Series(['mobile' in df['channels'][x] for x in range(len(df['channels']))]),'mobile']=1\n",
    "    df['mobile']=df['mobile'].fillna(value=0)\n",
    "    \n",
    "    df['social']= np.nan\n",
    "    df.loc[pd.Series(['social' in df['channels'][x] for x in range(len(df['channels']))]),'social']=1\n",
    "    df['social']=df['social'].fillna(value=0)\n",
    "    \n",
    "    df=df.drop(['channels'],axis=1)\n",
    "    \n",
    "    #convert gender column into dummy variables\n",
    "    df=pd.concat([df[:],pd.get_dummies(df['gender'],prefix='gender')],axis=1)\n",
    "    df=df.drop(['gender'],axis=1)\n",
    "\n",
    "    return df"
   ]
  },
  {
   "cell_type": "code",
   "execution_count": null,
   "metadata": {},
   "outputs": [],
   "source": [
    "offers_info=prep_info_df(info_final)"
   ]
  },
  {
   "cell_type": "code",
   "execution_count": 182,
   "metadata": {},
   "outputs": [
    {
     "data": {
      "text/html": [
       "<div>\n",
       "<style scoped>\n",
       "    .dataframe tbody tr th:only-of-type {\n",
       "        vertical-align: middle;\n",
       "    }\n",
       "\n",
       "    .dataframe tbody tr th {\n",
       "        vertical-align: top;\n",
       "    }\n",
       "\n",
       "    .dataframe thead th {\n",
       "        text-align: right;\n",
       "    }\n",
       "</style>\n",
       "<table border=\"1\" class=\"dataframe\">\n",
       "  <thead>\n",
       "    <tr style=\"text-align: right;\">\n",
       "      <th></th>\n",
       "      <th>person</th>\n",
       "      <th>offer_id</th>\n",
       "      <th>successful_offer</th>\n",
       "      <th>age</th>\n",
       "      <th>income</th>\n",
       "      <th>membership_tenure_days</th>\n",
       "      <th>day_offer</th>\n",
       "      <th>reward</th>\n",
       "      <th>difficulty</th>\n",
       "      <th>duration</th>\n",
       "      <th>offer_type</th>\n",
       "      <th>web</th>\n",
       "      <th>email</th>\n",
       "      <th>mobile</th>\n",
       "      <th>social</th>\n",
       "      <th>gender_F</th>\n",
       "      <th>gender_M</th>\n",
       "      <th>gender_O</th>\n",
       "    </tr>\n",
       "  </thead>\n",
       "  <tbody>\n",
       "    <tr>\n",
       "      <th>0</th>\n",
       "      <td>0009655768c64bdeb2e877511632db8f</td>\n",
       "      <td>3f207df678b143eea3cee63160fa8bed</td>\n",
       "      <td>1</td>\n",
       "      <td>33</td>\n",
       "      <td>72000.0</td>\n",
       "      <td>506.0</td>\n",
       "      <td>14.0</td>\n",
       "      <td>0</td>\n",
       "      <td>0</td>\n",
       "      <td>4</td>\n",
       "      <td>informational</td>\n",
       "      <td>1.0</td>\n",
       "      <td>1.0</td>\n",
       "      <td>1.0</td>\n",
       "      <td>0.0</td>\n",
       "      <td>0</td>\n",
       "      <td>1</td>\n",
       "      <td>0</td>\n",
       "    </tr>\n",
       "    <tr>\n",
       "      <th>1</th>\n",
       "      <td>0009655768c64bdeb2e877511632db8f</td>\n",
       "      <td>5a8bc65990b245e5a138643cd4eb9837</td>\n",
       "      <td>1</td>\n",
       "      <td>33</td>\n",
       "      <td>72000.0</td>\n",
       "      <td>506.0</td>\n",
       "      <td>7.0</td>\n",
       "      <td>0</td>\n",
       "      <td>0</td>\n",
       "      <td>3</td>\n",
       "      <td>informational</td>\n",
       "      <td>0.0</td>\n",
       "      <td>1.0</td>\n",
       "      <td>1.0</td>\n",
       "      <td>1.0</td>\n",
       "      <td>0</td>\n",
       "      <td>1</td>\n",
       "      <td>0</td>\n",
       "    </tr>\n",
       "    <tr>\n",
       "      <th>2</th>\n",
       "      <td>0020c2b971eb4e9188eac86d93036a77</td>\n",
       "      <td>5a8bc65990b245e5a138643cd4eb9837</td>\n",
       "      <td>1</td>\n",
       "      <td>59</td>\n",
       "      <td>90000.0</td>\n",
       "      <td>824.0</td>\n",
       "      <td>21.0</td>\n",
       "      <td>0</td>\n",
       "      <td>0</td>\n",
       "      <td>3</td>\n",
       "      <td>informational</td>\n",
       "      <td>0.0</td>\n",
       "      <td>1.0</td>\n",
       "      <td>1.0</td>\n",
       "      <td>1.0</td>\n",
       "      <td>1</td>\n",
       "      <td>0</td>\n",
       "      <td>0</td>\n",
       "    </tr>\n",
       "    <tr>\n",
       "      <th>3</th>\n",
       "      <td>0020ccbbb6d84e358d3414a3ff76cffd</td>\n",
       "      <td>5a8bc65990b245e5a138643cd4eb9837</td>\n",
       "      <td>1</td>\n",
       "      <td>24</td>\n",
       "      <td>60000.0</td>\n",
       "      <td>771.0</td>\n",
       "      <td>17.0</td>\n",
       "      <td>0</td>\n",
       "      <td>0</td>\n",
       "      <td>3</td>\n",
       "      <td>informational</td>\n",
       "      <td>0.0</td>\n",
       "      <td>1.0</td>\n",
       "      <td>1.0</td>\n",
       "      <td>1.0</td>\n",
       "      <td>1</td>\n",
       "      <td>0</td>\n",
       "      <td>0</td>\n",
       "    </tr>\n",
       "    <tr>\n",
       "      <th>4</th>\n",
       "      <td>003d66b6608740288d6cc97a6903f4f0</td>\n",
       "      <td>3f207df678b143eea3cee63160fa8bed</td>\n",
       "      <td>1</td>\n",
       "      <td>26</td>\n",
       "      <td>73000.0</td>\n",
       "      <td>566.0</td>\n",
       "      <td>14.0</td>\n",
       "      <td>0</td>\n",
       "      <td>0</td>\n",
       "      <td>4</td>\n",
       "      <td>informational</td>\n",
       "      <td>1.0</td>\n",
       "      <td>1.0</td>\n",
       "      <td>1.0</td>\n",
       "      <td>0.0</td>\n",
       "      <td>1</td>\n",
       "      <td>0</td>\n",
       "      <td>0</td>\n",
       "    </tr>\n",
       "  </tbody>\n",
       "</table>\n",
       "</div>"
      ],
      "text/plain": [
       "                             person                          offer_id  \\\n",
       "0  0009655768c64bdeb2e877511632db8f  3f207df678b143eea3cee63160fa8bed   \n",
       "1  0009655768c64bdeb2e877511632db8f  5a8bc65990b245e5a138643cd4eb9837   \n",
       "2  0020c2b971eb4e9188eac86d93036a77  5a8bc65990b245e5a138643cd4eb9837   \n",
       "3  0020ccbbb6d84e358d3414a3ff76cffd  5a8bc65990b245e5a138643cd4eb9837   \n",
       "4  003d66b6608740288d6cc97a6903f4f0  3f207df678b143eea3cee63160fa8bed   \n",
       "\n",
       "   successful_offer  age   income  membership_tenure_days  day_offer  reward  \\\n",
       "0                 1   33  72000.0                   506.0       14.0       0   \n",
       "1                 1   33  72000.0                   506.0        7.0       0   \n",
       "2                 1   59  90000.0                   824.0       21.0       0   \n",
       "3                 1   24  60000.0                   771.0       17.0       0   \n",
       "4                 1   26  73000.0                   566.0       14.0       0   \n",
       "\n",
       "   difficulty  duration     offer_type  web  email  mobile  social  gender_F  \\\n",
       "0           0         4  informational  1.0    1.0     1.0     0.0         0   \n",
       "1           0         3  informational  0.0    1.0     1.0     1.0         0   \n",
       "2           0         3  informational  0.0    1.0     1.0     1.0         1   \n",
       "3           0         3  informational  0.0    1.0     1.0     1.0         1   \n",
       "4           0         4  informational  1.0    1.0     1.0     0.0         1   \n",
       "\n",
       "   gender_M  gender_O  \n",
       "0         1         0  \n",
       "1         1         0  \n",
       "2         0         0  \n",
       "3         0         0  \n",
       "4         0         0  "
      ]
     },
     "execution_count": 182,
     "metadata": {},
     "output_type": "execute_result"
    }
   ],
   "source": [
    "offers_info.head()"
   ]
  },
  {
   "cell_type": "code",
   "execution_count": 183,
   "metadata": {},
   "outputs": [
    {
     "name": "stdout",
     "output_type": "stream",
     "text": [
      "                    person\n",
      "successful_offer          \n",
      "0                 0.180058\n",
      "1                 0.819942\n",
      "                    person\n",
      "successful_offer          \n",
      "0                 0.138255\n",
      "1                 0.861745\n",
      "                    person\n",
      "successful_offer          \n",
      "0                 0.262529\n",
      "1                 0.737471\n"
     ]
    }
   ],
   "source": [
    "#check for class balance in datasets\n",
    "print(offers_bogo[['person','successful_offer']].groupby('successful_offer').count()/len(offers_bogo))\n",
    "print(offers_discount[['person','successful_offer']].groupby('successful_offer').count()/len(offers_discount))\n",
    "print((offers_info[['person','successful_offer']].groupby('successful_offer').count()/len(offers_info)))"
   ]
  },
  {
   "cell_type": "markdown",
   "metadata": {},
   "source": [
    "### Model Implementation"
   ]
  },
  {
   "cell_type": "markdown",
   "metadata": {},
   "source": [
    "Creating standard functions for data preparation for modelling"
   ]
  },
  {
   "cell_type": "code",
   "execution_count": null,
   "metadata": {},
   "outputs": [],
   "source": [
    "from sklearn.model_selection import train_test_split\n",
    "from sklearn.preprocessing import StandardScaler\n",
    "from sklearn.tree import DecisionTreeClassifier\n",
    "from sklearn.ensemble import RandomForestClassifier\n",
    "from sklearn.preprocessing import PolynomialFeatures\n",
    "from sklearn.metrics import mean_squared_error\n",
    "from sklearn.metrics import classification_report\n",
    "from sklearn.model_selection import GridSearchCV\n",
    "import matplotlib.pyplot as plt\n",
    "from time import time\n",
    "from sklearn.linear_model import Ridge"
   ]
  },
  {
   "cell_type": "code",
   "execution_count": null,
   "metadata": {},
   "outputs": [],
   "source": [
    "def data_prep(df,drop_cols):\n",
    "    target = df['successful_offer']\n",
    "    features = df.drop(drop_cols,axis=1)\n",
    "    \n",
    "    X_train, X_test, y_train, y_test = train_test_split(features,target, test_size=0.20, random_state=50)\n",
    "\n",
    "    #fit and transform scaling on training data\n",
    "    scaler=StandardScaler()\n",
    "    X_train=scaler.fit_transform(X_train)\n",
    "\n",
    "    #scale test data\n",
    "    X_test=scaler.transform(X_test)\n",
    "    return X_train,X_test,y_train, y_test"
   ]
  },
  {
   "cell_type": "code",
   "execution_count": null,
   "metadata": {},
   "outputs": [],
   "source": [
    "def train_predict(learner, X_train, y_train, X_test, y_test): \n",
    "    results = {}\n",
    "    \n",
    "    #Fit the learner to the training data and get training time\n",
    "    start = time() \n",
    "    learner = learner.fit(X_train, y_train)\n",
    "    end = time() \n",
    "    results['train_time'] = end-start\n",
    "    \n",
    "    # Get predictions on the test set(X_test), then get predictions on training set\n",
    "    start = time() \n",
    "    predictions_test = learner.predict(X_test)\n",
    "    predictions_train = learner.predict(X_train)\n",
    "    end = time() \n",
    "    \n",
    "    # Calculate the total prediction time\n",
    "    results['pred_time'] = end-start\n",
    "    \n",
    "    #add training accuracy to results\n",
    "    results['training_score']=learner.score(X_train,y_train)\n",
    "    \n",
    "    #add testing accuracy to results\n",
    "    results['testing_score']=learner.score(X_test,y_test)\n",
    "     \n",
    "    print(\"{} trained on {} samples.\".format(learner.__class__.__name__, len(y_train)))\n",
    "    print(\"MSE_train: %.4f\" % mean_squared_error(y_train,predictions_train))\n",
    "    print(\"MSE_test: %.4f\" % mean_squared_error(y_test,predictions_test))\n",
    "    print(\"Training accuracy:%.4f\" % results['training_score'])\n",
    "    print(\"Test accuracy:%.4f\" % results['testing_score'])\n",
    "    print(classification_report(y_test, predictions_test,digits=4))\n",
    "    return results"
   ]
  },
  {
   "cell_type": "code",
   "execution_count": null,
   "metadata": {},
   "outputs": [],
   "source": [
    "def comparison(model1,model2,name):\n",
    "    \n",
    "    results = {}\n",
    "    for model in [model1, model2]:\n",
    "        model_name = model.__class__.__name__ + '_' +name\n",
    "        results[model_name] = {}\n",
    "        results[model_name]= train_predict(model, X_train, y_train, X_test, y_test)\n",
    "    return pd.DataFrame(results)"
   ]
  },
  {
   "cell_type": "markdown",
   "metadata": {},
   "source": [
    "**BOGO Offers !**"
   ]
  },
  {
   "cell_type": "code",
   "execution_count": 184,
   "metadata": {},
   "outputs": [
    {
     "name": "stdout",
     "output_type": "stream",
     "text": [
      "DecisionTreeClassifier trained on 9708 samples.\n",
      "MSE_train: 0.1725\n",
      "MSE_test: 0.1953\n",
      "Training accuracy:0.8275\n",
      "Test accuracy:0.8047\n",
      "              precision    recall  f1-score   support\n",
      "\n",
      "           0     0.4175    0.0941    0.1536       457\n",
      "           1     0.8219    0.9695    0.8896      1970\n",
      "\n",
      "    accuracy                         0.8047      2427\n",
      "   macro avg     0.6197    0.5318    0.5216      2427\n",
      "weighted avg     0.7457    0.8047    0.7510      2427\n",
      "\n",
      "RandomForestClassifier trained on 9708 samples.\n",
      "MSE_train: 0.1403\n",
      "MSE_test: 0.1842\n",
      "Training accuracy:0.8597\n",
      "Test accuracy:0.8158\n",
      "              precision    recall  f1-score   support\n",
      "\n",
      "           0     0.5781    0.0810    0.1420       457\n",
      "           1     0.8223    0.9863    0.8968      1970\n",
      "\n",
      "    accuracy                         0.8158      2427\n",
      "   macro avg     0.7002    0.5336    0.5194      2427\n",
      "weighted avg     0.7763    0.8158    0.7547      2427\n",
      "\n"
     ]
    }
   ],
   "source": [
    "drop_cols_prep=['person','offer_id','successful_offer','offer_type']\n",
    "X_train, X_test, y_train, y_test=data_prep(offers_bogo,drop_cols_prep)\n",
    "\n",
    "#Initialize the model - baseline is DT model, bogo_1 model is RF model\n",
    "baseline = DecisionTreeClassifier(criterion='entropy',max_depth=5,random_state=2,min_samples_split=90,min_samples_leaf=50)\n",
    "bogo_1 = RandomForestClassifier(random_state=2,max_depth= 10, max_features= 'auto',n_estimators=100)\n",
    "\n",
    "results=comparison(baseline,bogo_1,'bogo_1')"
   ]
  },
  {
   "cell_type": "markdown",
   "metadata": {},
   "source": [
    "Since Random Forest gives a slightly better performance than Decision Tree on unseen test dataset, I will go with Random Forest as the final choice. \n",
    "Accuracy - 81.58% vs 80.47%\n",
    "F1 Score - 75.47 vs 75.10"
   ]
  },
  {
   "cell_type": "markdown",
   "metadata": {},
   "source": [
    "**DISCOUNT Offers !**"
   ]
  },
  {
   "cell_type": "code",
   "execution_count": 185,
   "metadata": {},
   "outputs": [
    {
     "name": "stdout",
     "output_type": "stream",
     "text": [
      "DecisionTreeClassifier trained on 9958 samples.\n",
      "MSE_train: 0.1384\n",
      "MSE_test: 0.1378\n",
      "Training accuracy:0.8616\n",
      "Test accuracy:0.8622\n",
      "              precision    recall  f1-score   support\n",
      "\n",
      "           0     0.0000    0.0000    0.0000       343\n",
      "           1     0.8622    1.0000    0.9260      2147\n",
      "\n",
      "    accuracy                         0.8622      2490\n",
      "   macro avg     0.4311    0.5000    0.4630      2490\n",
      "weighted avg     0.7435    0.8622    0.7985      2490\n",
      "\n"
     ]
    },
    {
     "name": "stderr",
     "output_type": "stream",
     "text": [
      "/home/ec2-user/anaconda3/envs/pytorch_p36/lib/python3.6/site-packages/sklearn/metrics/_classification.py:1272: UndefinedMetricWarning: Precision and F-score are ill-defined and being set to 0.0 in labels with no predicted samples. Use `zero_division` parameter to control this behavior.\n",
      "  _warn_prf(average, modifier, msg_start, len(result))\n"
     ]
    },
    {
     "name": "stdout",
     "output_type": "stream",
     "text": [
      "RandomForestClassifier trained on 9958 samples.\n",
      "MSE_train: 0.1171\n",
      "MSE_test: 0.1341\n",
      "Training accuracy:0.8829\n",
      "Test accuracy:0.8659\n",
      "              precision    recall  f1-score   support\n",
      "\n",
      "           0     0.6552    0.0554    0.1022       343\n",
      "           1     0.8683    0.9953    0.9275      2147\n",
      "\n",
      "    accuracy                         0.8659      2490\n",
      "   macro avg     0.7618    0.5254    0.5148      2490\n",
      "weighted avg     0.8390    0.8659    0.8138      2490\n",
      "\n"
     ]
    }
   ],
   "source": [
    "drop_cols_prep=['person','offer_id','successful_offer','offer_type']\n",
    "X_train, X_test, y_train, y_test=data_prep(offers_discount,drop_cols_prep)\n",
    "\n",
    "#Initialize the model - baseline is DT model, discount_1 model is RF model\n",
    "discount_1 = RandomForestClassifier(random_state=2,max_depth= 10, max_features= 'auto',n_estimators=100)\n",
    "\n",
    "results=comparison(baseline,discount_1,'discount_1')"
   ]
  },
  {
   "cell_type": "markdown",
   "metadata": {},
   "source": [
    "Again RF gave better performance compared to baseline DT\n",
    "Accuracy - 86.59% vs 86.22%\n",
    "F1 Score - 81.38 vs 79.85"
   ]
  },
  {
   "cell_type": "markdown",
   "metadata": {},
   "source": [
    "**INFORMATIONAL Offers !**"
   ]
  },
  {
   "cell_type": "code",
   "execution_count": 186,
   "metadata": {},
   "outputs": [
    {
     "name": "stdout",
     "output_type": "stream",
     "text": [
      "DecisionTreeClassifier trained on 5555 samples.\n",
      "MSE_train: 0.2468\n",
      "MSE_test: 0.2664\n",
      "Training accuracy:0.7532\n",
      "Test accuracy:0.7336\n",
      "              precision    recall  f1-score   support\n",
      "\n",
      "           0     0.4889    0.1196    0.1921       368\n",
      "           1     0.7506    0.9549    0.8405      1021\n",
      "\n",
      "    accuracy                         0.7336      1389\n",
      "   macro avg     0.6197    0.5373    0.5163      1389\n",
      "weighted avg     0.6812    0.7336    0.6687      1389\n",
      "\n",
      "RandomForestClassifier trained on 5555 samples.\n",
      "MSE_train: 0.1768\n",
      "MSE_test: 0.2621\n",
      "Training accuracy:0.8232\n",
      "Test accuracy:0.7379\n",
      "              precision    recall  f1-score   support\n",
      "\n",
      "           0     0.5227    0.1250    0.2018       368\n",
      "           1     0.7525    0.9589    0.8432      1021\n",
      "\n",
      "    accuracy                         0.7379      1389\n",
      "   macro avg     0.6376    0.5419    0.5225      1389\n",
      "weighted avg     0.6916    0.7379    0.6733      1389\n",
      "\n"
     ]
    }
   ],
   "source": [
    "drop_cols_prep=['person','offer_id','successful_offer','offer_type']\n",
    "X_train, X_test, y_train, y_test=data_prep(offers_info,drop_cols_prep)\n",
    "\n",
    "#Initialize the model - baseline is DT model, discount_1 model is RF model\n",
    "info_1 = RandomForestClassifier(random_state=2,max_depth= 10, max_features= 'auto',n_estimators=100)\n",
    "\n",
    "results=comparison(baseline,info_1,'info_1')"
   ]
  },
  {
   "cell_type": "markdown",
   "metadata": {},
   "source": [
    "RF vs baseline DT\n",
    "Accuracy - 73.79% vs 73.36%\n",
    "F1 Score - 67.33 vs 66.87\n",
    "Since data size of Informational models is almost half of that of Bogo/Discount offers, I believe that has caused slightly reduced relative performance. "
   ]
  },
  {
   "cell_type": "markdown",
   "metadata": {},
   "source": [
    "#### Characteristics of successful offer through feature importances"
   ]
  },
  {
   "cell_type": "code",
   "execution_count": 187,
   "metadata": {},
   "outputs": [
    {
     "data": {
      "image/png": "[encoded data removed]",
      "text/plain": [
       "<Figure size 432x288 with 1 Axes>"
      ]
     },
     "metadata": {
      "needs_background": "light"
     },
     "output_type": "display_data"
    },
    {
     "data": {
      "image/png": "[encoded data removed]",
      "text/plain": [
       "<Figure size 432x288 with 1 Axes>"
      ]
     },
     "metadata": {
      "needs_background": "light"
     },
     "output_type": "display_data"
    },
    {
     "data": {
      "image/png": "[encoded data removed]",
      "text/plain": [
       "<Figure size 432x288 with 1 Axes>"
      ]
     },
     "metadata": {
      "needs_background": "light"
     },
     "output_type": "display_data"
    }
   ],
   "source": [
    "#BOGO model\n",
    "drop_cols=['person','offer_id','successful_offer','offer_type']\n",
    "features = offers_bogo.drop(drop_cols,axis=1)\n",
    "\n",
    "feature_importances = pd.DataFrame(bogo_1.feature_importances_,\n",
    "                                   index = features.columns,\n",
    "                                    columns=['importance']).sort_values('importance',ascending=False)\n",
    "feature_importances.plot.bar()\n",
    "plt.title('Best BOGO model feature importance')\n",
    "plt.show()\n",
    "\n",
    "#DISCOUNT model\n",
    "features = offers_discount.drop(drop_cols,axis=1)\n",
    "feature_importances = pd.DataFrame(discount_1.feature_importances_,\n",
    "                                   index = features.columns,\n",
    "                                    columns=['importance']).sort_values('importance',ascending=False)\n",
    "feature_importances.plot.bar()\n",
    "plt.title('Best discount model feature importance')\n",
    "plt.show()\n",
    "\n",
    "#INFO model\n",
    "features = offers_info.drop(drop_cols,axis=1)\n",
    "feature_importances = pd.DataFrame(info_1.feature_importances_,\n",
    "                                   index = features.columns,\n",
    "                                    columns=['importance']).sort_values('importance',ascending=False)\n",
    "feature_importances.plot.bar()\n",
    "plt.title('Best info model feature importance')\n",
    "plt.show()"
   ]
  },
  {
   "cell_type": "markdown",
   "metadata": {},
   "source": [
    "Checking on the feature importance to analyse the main drivers of a successful offer, we can see that the most important driver of effective offers across all three are the tenure of membership. However, the 2nd most important feature is mostly between age and income as they share roughly equal importance across the three models. 3rd most important feature is also consistent across the models, i.e. day of offer.\n",
    "\n",
    "For a BOGO offer, the membership tenure is the most important feature, Income, age and day_offer are the 2nd, 3rd and 4th most important features, and rest being very small in their proportions.\n",
    "\n",
    "For a discount offer, after the membership tenure, age and income are the next most important variables, with proportions very similar to bogo offer. \n",
    "\n",
    "The feature importances for the informational offer models are more distributed compared to the BOGO and discount models, with income being the 2nd most important feature. Age is the third and day_offer being the 4th."
   ]
  },
  {
   "cell_type": "markdown",
   "metadata": {},
   "source": [
    "#### Exploring Characteristics of all 4 groups of customers "
   ]
  },
  {
   "cell_type": "code",
   "execution_count": null,
   "metadata": {
    "scrolled": true
   },
   "outputs": [],
   "source": [
    "# Group 1 & 2\n",
    "group1 = bogo_final.append(discount_final)\n",
    "group1 = group1.append(info_final)\n",
    "group2 = group1[group1['successful_offer']==0]\n",
    "group1 = group1[group1['successful_offer']==1]"
   ]
  },
  {
   "cell_type": "code",
   "execution_count": null,
   "metadata": {},
   "outputs": [],
   "source": [
    "# Group 3\n",
    "group3 = bogo_grp3.append(discount_grp3)\n",
    "group3 = group3.append(grp3_info)\n",
    "group3 = group3.merge(profile,how=\"left\",left_on=\"person\",right_on=\"id\")\n",
    "group3.drop('id',axis=1,inplace=True)\n",
    "group3['year']=pd.Series([int(str(x)[:4]) for x in group3['became_member_on']])\n",
    "group3['month']=pd.Series([int(str(x)[-3]) for x in group3['became_member_on']])\n",
    "group3['day']=pd.Series([int(str(x)[-2:]) for x in group3['became_member_on']])\n",
    "group3=group3.drop(['became_member_on'],axis=1)\n",
    "group3.loc[group3['year'] == 2018, 'membership_tenure_days'] = (30*group3['month'])+group3['day']\n",
    "group3.loc[group3['year'] != 2018, 'membership_tenure_days'] = ((2018-group3['year'])*365)+(30*group3['month'])+group3['day']\n",
    "group3=group3.drop(['year','month','day'],axis=1)"
   ]
  },
  {
   "cell_type": "code",
   "execution_count": null,
   "metadata": {},
   "outputs": [],
   "source": [
    "# Group 4\n",
    "group4 = bogo_grp4.append(discount_grp4)\n",
    "group4 = group4.append(info_grp4)\n",
    "group4 = group4.merge(profile,how=\"left\",left_on=\"person\",right_on=\"id\")\n",
    "group4.drop('id',axis=1,inplace=True)\n",
    "group4['year']=pd.Series([int(str(x)[:4]) for x in group4['became_member_on']])\n",
    "group4['month']=pd.Series([int(str(x)[-3]) for x in group4['became_member_on']])\n",
    "group4['day']=pd.Series([int(str(x)[-2:]) for x in group4['became_member_on']])\n",
    "group4=group4.drop(['became_member_on'],axis=1)\n",
    "group4.loc[group4['year'] == 2018, 'membership_tenure_days'] = (30*group4['month'])+group4['day']\n",
    "group4.loc[group4['year'] != 2018, 'membership_tenure_days'] = ((2018-group4['year'])*365)+(30*group4['month'])+group4['day']\n",
    "group4=group4.drop(['year','month','day'],axis=1)"
   ]
  },
  {
   "cell_type": "code",
   "execution_count": 195,
   "metadata": {},
   "outputs": [],
   "source": [
    "def plot_hist(variable,bins=None):\n",
    "    df1 = group1[['person',variable]][group1['age']!=118].drop_duplicates()\n",
    "    df2 = group2[['person',variable]][group2['age']!=118].drop_duplicates()\n",
    "    df3 = group3[['person',variable]][group3['age']!=118].drop_duplicates()\n",
    "    df4 = group4[['person',variable]][group4['age']!=118].drop_duplicates()\n",
    "    plt.hist(df1[variable],alpha=0.5, label='group 1',bins=bins)\n",
    "    plt.hist(df2[variable], alpha=0.5, label='group 2',bins=bins)\n",
    "    plt.hist(df3[variable], alpha=0.5, label='group 3',bins=bins)\n",
    "    plt.hist(df4[variable], alpha=0.5, label='group 4',bins=bins)\n",
    "    plt.legend(loc='upper right')\n",
    "    plt.title('distribution of '+ variable + ' between group 1-4')\n",
    "    plt.show()"
   ]
  },
  {
   "cell_type": "code",
   "execution_count": 189,
   "metadata": {},
   "outputs": [
    {
     "data": {
      "image/png": "[encoded data removed]",
      "text/plain": [
       "<Figure size 432x288 with 1 Axes>"
      ]
     },
     "metadata": {
      "needs_background": "light"
     },
     "output_type": "display_data"
    }
   ],
   "source": [
    "#plot distribution of income\n",
    "plot_hist('income')"
   ]
  },
  {
   "cell_type": "markdown",
   "metadata": {},
   "source": [
    "Across the 4 segments, most people fall within the middle range of income (50K - 100K). The income distribution between the 4 segments are relatively similar."
   ]
  },
  {
   "cell_type": "code",
   "execution_count": 190,
   "metadata": {},
   "outputs": [
    {
     "data": {
      "image/png": "[encoded data removed]",
      "text/plain": [
       "<Figure size 432x288 with 1 Axes>"
      ]
     },
     "metadata": {
      "needs_background": "light"
     },
     "output_type": "display_data"
    }
   ],
   "source": [
    "#plot ditribution of age\n",
    "plot_hist('age')"
   ]
  },
  {
   "cell_type": "markdown",
   "metadata": {},
   "source": [
    "Age distribution looks relatively similar between the 4 groups as well, with most people between the age 40-80 years old."
   ]
  },
  {
   "cell_type": "code",
   "execution_count": 196,
   "metadata": {},
   "outputs": [
    {
     "data": {
      "image/png": "[encoded data removed]",
      "text/plain": [
       "<Figure size 432x288 with 1 Axes>"
      ]
     },
     "metadata": {
      "needs_background": "light"
     },
     "output_type": "display_data"
    }
   ],
   "source": [
    "#plot day of offer\n",
    "plot_hist('day_offer')"
   ]
  },
  {
   "cell_type": "markdown",
   "metadata": {},
   "source": [
    "Looking at the day on which offer is made, after an offer is made, it looks like proportion of failure of an offer is slightly higher towards the end of the month. This may be because disposable income generally decreases towards the end of month as customers are waiting to receive their month-end salaries."
   ]
  },
  {
   "cell_type": "code",
   "execution_count": 191,
   "metadata": {},
   "outputs": [
    {
     "data": {
      "image/png": "[encoded data removed]",
      "text/plain": [
       "<Figure size 432x288 with 1 Axes>"
      ]
     },
     "metadata": {
      "needs_background": "light"
     },
     "output_type": "display_data"
    }
   ],
   "source": [
    "#plot tenure of membership\n",
    "plot_hist('membership_tenure_days')"
   ]
  },
  {
   "cell_type": "markdown",
   "metadata": {},
   "source": [
    "The distribution of membership tenure also looks similar between the 4 segments, with most people between 0-1000 days of tenure. Lastly, let's look at gender."
   ]
  },
  {
   "cell_type": "code",
   "execution_count": 194,
   "metadata": {},
   "outputs": [
    {
     "data": {
      "image/png": "[encoded data removed]",
      "text/plain": [
       "<Figure size 432x288 with 1 Axes>"
      ]
     },
     "metadata": {
      "needs_background": "light"
     },
     "output_type": "display_data"
    }
   ],
   "source": [
    "#plot gender\n",
    "plot_hist('gender')"
   ]
  },
  {
   "cell_type": "markdown",
   "metadata": {},
   "source": [
    "It appears as though there are not much demographic characteristic differences between the 4 groups, at least in the current data provided, apart from gender where females seem to have a higher tendency to make purchase irrespective of the offer."
   ]
  },
  {
   "cell_type": "markdown",
   "metadata": {},
   "source": [
    "### Conclusion"
   ]
  },
  {
   "cell_type": "markdown",
   "metadata": {},
   "source": [
    "**Characteristics of Successful Offer:**\n",
    "Feature importance given by all 3 models were that the tenure of a member is the biggest predictor of the effectiveness of an offer. Further, the top 4 variables were the same - membership tenure, income, age and day of offer. However, income and age switched orders depending on offer type.\n",
    "\n",
    "For BOGO and discount offers, the distribution of feature importances were relatively equal. However, for informational offers, the distribution is slightly more balanced, with income the second most important variable.\n",
    "\n",
    "Females seem to have a higher tendency to make purchase irrespective of the offer. Hence, offers should be more targeted towards males\n",
    "\n",
    "Lastly, proportion of failure of an offer is slightly higher towards the end of the month. Hence, offers should be made more towards beginning/middle of month to achieve higher conversion.\n",
    "\n",
    "In short, Optimum offer targeting is:\n",
    "**Target males during initial few days of the month, who have a membership tenure of less than 1000 days, are 40-80 years old and have income between 50k-100k**\n",
    "\n",
    "**Predict if a particular user would take up an offer:**\n",
    "My decision to use 3 separate models to predict the effectiveness of each offer type ended up with good accuracy for the BOGO and discount models (81.58% for BOGO and 86.59% for discount), while slightly less accurate performance for informational offers (73.79%). All 3 models have vastly superior performance as compared to their corresponding baseline models. \n",
    "\n",
    "While I am quite happy with the 80% and above accuracy for BOGO and discount models, I would regard 74% as acceptable in a business setting for informational offers as there is minimal cost involved to inform users of a product."
   ]
  }
 ],
 "metadata": {
  "kernelspec": {
   "display_name": "conda_pytorch_p36",
   "language": "python",
   "name": "conda_pytorch_p36"
  },
  "language_info": {
   "codemirror_mode": {
    "name": "ipython",
    "version": 3
   },
   "file_extension": ".py",
   "mimetype": "text/x-python",
   "name": "python",
   "nbconvert_exporter": "python",
   "pygments_lexer": "ipython3",
   "version": "3.6.10"
  }
 },
 "nbformat": 4,
 "nbformat_minor": 2
}
